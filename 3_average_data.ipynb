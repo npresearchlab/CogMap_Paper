{
 "cells": [
  {
   "cell_type": "markdown",
   "metadata": {},
   "source": [
    "## Importing Libraries"
   ]
  },
  {
   "cell_type": "code",
   "execution_count": 1,
   "metadata": {},
   "outputs": [],
   "source": [
    "# Importing relevant libraries\n",
    "import pandas as pd\n",
    "import numpy as np\n",
    "from pathlib import Path\n",
    "import os\n",
    "import matplotlib\n",
    "import matplotlib.pyplot as plt\n",
    "import math"
   ]
  },
  {
   "cell_type": "markdown",
   "metadata": {},
   "source": [
    "## Getting All Data"
   ]
  },
  {
   "cell_type": "code",
   "execution_count": 2,
   "metadata": {},
   "outputs": [
    {
     "name": "stdout",
     "output_type": "stream",
     "text": [
      "File '/Users/yasminebassil/Desktop/Data/averaged_results.csv' does not exist.\n",
      "['BNC01', 'BNC02', 'BNC03', 'BNC04', 'BNC05', 'BNC07', 'BNC08', 'BNC09', 'BNC11', 'BNC12', 'BNC23', 'BNC26', 'BNC27', 'BNC28', 'BNC29', 'BNC30', 'BNC31', 'BNC32', 'BNC33', 'BNC34', 'BNC35', 'BNC36', 'BNC37']\n"
     ]
    }
   ],
   "source": [
    "# Setting filepath to all data folders\n",
    "fp_data = '/Users/yasminebassil/Desktop/Data/'\n",
    "\n",
    "# Check if the file exists before attempting to delete it\n",
    "if os.path.exists(fp_data + 'averaged_results.csv'):\n",
    "    # Attempt to delete the file\n",
    "    try:\n",
    "        os.remove(fp_data + 'averaged_results.csv')\n",
    "        print(f\"File '{fp_data + 'averaged_results.csv'}' has been deleted successfully.\")\n",
    "    except OSError as e:\n",
    "        print(f\"Error deleting file '{fp_data + 'averaged_results.csv'}': {e}\")\n",
    "else:\n",
    "    print(f\"File '{fp_data + 'averaged_results.csv'}' does not exist.\")\n",
    "\n",
    "sub_folders = []\n",
    "for i in os.listdir(fp_data):\n",
    "    if os.path.isdir(os.path.join(fp_data,i)) and 'BNC' in i:\n",
    "        sub_folders.append(i)\n",
    "\n",
    "num_subjects = len(sub_folders)\n",
    "sub_folders = sorted(sub_folders)\n",
    "print(sub_folders)"
   ]
  },
  {
   "cell_type": "code",
   "execution_count": 3,
   "metadata": {},
   "outputs": [],
   "source": [
    "df_final = pd.DataFrame({\n",
    "        'Participant': [],\n",
    "        'Block_Num': [],\n",
    "        'Total_Time': [],\n",
    "        'Orientation_Time': [],\n",
    "        'Navigation_Time': [],\n",
    "        'Distance': [],\n",
    "        'Speed': [],\n",
    "        'Mean_Dwell': [],\n",
    "        'Var_X': [],\n",
    "        'Var_Y': [],\n",
    "        'Var_Z': [],\n",
    "        'Teleportations': []\n",
    "    })"
   ]
  },
  {
   "cell_type": "code",
   "execution_count": 4,
   "metadata": {},
   "outputs": [],
   "source": [
    "# Iterating through participant folders and conducting analyses\n",
    "for PID in sub_folders:\n",
    "    \n",
    "    # Filepath to each participant folder\n",
    "    fp_PID = fp_data + PID\n",
    "\n",
    "    for i in range(1,4):\n",
    "        fp_results = fp_PID +'/b'+str(i)+'_results.csv'\n",
    "        data = pd.read_csv(fp_results)\n",
    "        total_time = data['Total_Time'].sum()\n",
    "        orientation_time = data['Orientation_Time'].sum()\n",
    "        nav_time = data['Navigation_Time'].sum()\n",
    "        distance = data['Distance'].sum()\n",
    "        speed = data['Speed'].mean()\n",
    "        mean_dt = data['Mean_Dwell'].mean()\n",
    "        vX = data['Var_X'].mean()\n",
    "        vY = data['Var_Y'].mean()\n",
    "        vZ = data['Var_Z'].mean()\n",
    "        teleports = data['Teleportations'].sum()\n",
    "        new_row = {\n",
    "                    'Participant': PID,\n",
    "                    'Block_Num': i,\n",
    "                    'Total_Time': total_time,\n",
    "                    'Orientation_Time': orientation_time,\n",
    "                    'Navigation_Time': nav_time,\n",
    "                    'Distance': distance,\n",
    "                    'Speed': speed,\n",
    "                    'Mean_Dwell': mean_dt,\n",
    "                    'Var_X': vX,\n",
    "                    'Var_Y': vY,\n",
    "                    'Var_Z': vZ,\n",
    "                    'Teleportations': teleports,\n",
    "                }\n",
    "        df_final.loc[len(df_final)] = new_row\n",
    "\n",
    "df_final.to_csv(fp_data + 'averaged_results.csv', index=True, header = True)"
   ]
  }
 ],
 "metadata": {
  "kernelspec": {
   "display_name": ".venv",
   "language": "python",
   "name": "python3"
  },
  "language_info": {
   "codemirror_mode": {
    "name": "ipython",
    "version": 3
   },
   "file_extension": ".py",
   "mimetype": "text/x-python",
   "name": "python",
   "nbconvert_exporter": "python",
   "pygments_lexer": "ipython3",
   "version": "3.11.4"
  },
  "orig_nbformat": 4
 },
 "nbformat": 4,
 "nbformat_minor": 2
}
