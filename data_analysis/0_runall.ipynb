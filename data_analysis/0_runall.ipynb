{
 "cells": [
  {
   "cell_type": "code",
   "execution_count": 2,
   "metadata": {},
   "outputs": [
    {
     "name": "stdout",
     "output_type": "stream",
     "text": [
      "Stored 'fp_folder' (str)\n"
     ]
    },
    {
     "name": "stderr",
     "output_type": "stream",
     "text": [
      "/var/folders/vd/hgkjsb1j7gj04s6dypg9lc0c0000gn/T/ipykernel_57270/1000776341.py:2: DeprecationWarning: `magic(...)` is deprecated since IPython 0.13 (warning added in 8.1), use run_line_magic(magic_name, parameter_s).\n",
      "  get_ipython().magic('reset -sf')\n"
     ]
    },
    {
     "ename": "Exception",
     "evalue": "File `'/Users/yasminebassil/Documents/Emory/3_Research/Projects/CogMap_Paper/data_analysis/1_outcome_measures.ipynb'` not found.",
     "output_type": "error",
     "traceback": [
      "\u001b[0;31m---------------------------------------------------------------------------\u001b[0m",
      "\u001b[0;31mOSError\u001b[0m                                   Traceback (most recent call last)",
      "File \u001b[0;32m~/Documents/Emory/3_Research/Projects/CogMap_Paper/.venv/lib/python3.11/site-packages/IPython/core/magics/execution.py:701\u001b[0m, in \u001b[0;36mExecutionMagics.run\u001b[0;34m(self, parameter_s, runner, file_finder)\u001b[0m\n\u001b[1;32m    700\u001b[0m     fpath \u001b[39m=\u001b[39m arg_lst[\u001b[39m0\u001b[39m]\n\u001b[0;32m--> 701\u001b[0m     filename \u001b[39m=\u001b[39m file_finder(fpath)\n\u001b[1;32m    702\u001b[0m \u001b[39mexcept\u001b[39;00m \u001b[39mIndexError\u001b[39;00m \u001b[39mas\u001b[39;00m e:\n",
      "File \u001b[0;32m~/Documents/Emory/3_Research/Projects/CogMap_Paper/.venv/lib/python3.11/site-packages/IPython/utils/path.py:90\u001b[0m, in \u001b[0;36mget_py_filename\u001b[0;34m(name)\u001b[0m\n\u001b[1;32m     89\u001b[0m         \u001b[39mreturn\u001b[39;00m py_name\n\u001b[0;32m---> 90\u001b[0m \u001b[39mraise\u001b[39;00m \u001b[39mIOError\u001b[39;00m(\u001b[39m\"\u001b[39m\u001b[39mFile `\u001b[39m\u001b[39m%r\u001b[39;00m\u001b[39m` not found.\u001b[39m\u001b[39m\"\u001b[39m \u001b[39m%\u001b[39m name)\n",
      "\u001b[0;31mOSError\u001b[0m: File `'/Users/yasminebassil/Documents/Emory/3_Research/Projects/CogMap_Paper/data_analysis/1_outcome_measures.ipynb'` not found.",
      "\nThe above exception was the direct cause of the following exception:\n",
      "\u001b[0;31mException\u001b[0m                                 Traceback (most recent call last)",
      "\u001b[1;32m/Users/yasminebassil/Documents/Emory/3_Research/Projects/CogMap_Paper/data_analysis/0_runall.ipynb Cell 1\u001b[0m line \u001b[0;36m9\n\u001b[1;32m      <a href='vscode-notebook-cell:/Users/yasminebassil/Documents/Emory/3_Research/Projects/CogMap_Paper/data_analysis/0_runall.ipynb#W0sZmlsZQ%3D%3D?line=5'>6</a>\u001b[0m fp_code \u001b[39m=\u001b[39m \u001b[39m'\u001b[39m\u001b[39m/Users/yasminebassil/Documents/Emory/3_Research/Projects/CogMap_Paper/data_analysis/\u001b[39m\u001b[39m'\u001b[39m \u001b[39m# filepath to codes\u001b[39;00m\n\u001b[1;32m      <a href='vscode-notebook-cell:/Users/yasminebassil/Documents/Emory/3_Research/Projects/CogMap_Paper/data_analysis/0_runall.ipynb#W0sZmlsZQ%3D%3D?line=7'>8</a>\u001b[0m get_ipython()\u001b[39m.\u001b[39mrun_line_magic(\u001b[39m'\u001b[39m\u001b[39mstore\u001b[39m\u001b[39m'\u001b[39m, \u001b[39m'\u001b[39m\u001b[39mfp_folder\u001b[39m\u001b[39m'\u001b[39m)\n\u001b[0;32m----> <a href='vscode-notebook-cell:/Users/yasminebassil/Documents/Emory/3_Research/Projects/CogMap_Paper/data_analysis/0_runall.ipynb#W0sZmlsZQ%3D%3D?line=8'>9</a>\u001b[0m get_ipython()\u001b[39m.\u001b[39;49mrun_line_magic(\u001b[39m'\u001b[39;49m\u001b[39mrun\u001b[39;49m\u001b[39m'\u001b[39;49m, fp_code \u001b[39m+\u001b[39;49m \u001b[39m'\u001b[39;49m\u001b[39m1_outcome_measures.ipynb\u001b[39;49m\u001b[39m'\u001b[39;49m)\n\u001b[1;32m     <a href='vscode-notebook-cell:/Users/yasminebassil/Documents/Emory/3_Research/Projects/CogMap_Paper/data_analysis/0_runall.ipynb#W0sZmlsZQ%3D%3D?line=9'>10</a>\u001b[0m get_ipython()\u001b[39m.\u001b[39mrun_line_magic(\u001b[39m'\u001b[39m\u001b[39mrun\u001b[39m\u001b[39m'\u001b[39m, fp_code \u001b[39m+\u001b[39m \u001b[39m'\u001b[39m\u001b[39m2_merge_data.ipynb\u001b[39m\u001b[39m'\u001b[39m)\n\u001b[1;32m     <a href='vscode-notebook-cell:/Users/yasminebassil/Documents/Emory/3_Research/Projects/CogMap_Paper/data_analysis/0_runall.ipynb#W0sZmlsZQ%3D%3D?line=10'>11</a>\u001b[0m \u001b[39m#make sure to change save location at the end of script\u001b[39;00m\n",
      "File \u001b[0;32m~/Documents/Emory/3_Research/Projects/CogMap_Paper/.venv/lib/python3.11/site-packages/IPython/core/interactiveshell.py:2417\u001b[0m, in \u001b[0;36mInteractiveShell.run_line_magic\u001b[0;34m(self, magic_name, line, _stack_depth)\u001b[0m\n\u001b[1;32m   2415\u001b[0m     kwargs[\u001b[39m'\u001b[39m\u001b[39mlocal_ns\u001b[39m\u001b[39m'\u001b[39m] \u001b[39m=\u001b[39m \u001b[39mself\u001b[39m\u001b[39m.\u001b[39mget_local_scope(stack_depth)\n\u001b[1;32m   2416\u001b[0m \u001b[39mwith\u001b[39;00m \u001b[39mself\u001b[39m\u001b[39m.\u001b[39mbuiltin_trap:\n\u001b[0;32m-> 2417\u001b[0m     result \u001b[39m=\u001b[39m fn(\u001b[39m*\u001b[39;49margs, \u001b[39m*\u001b[39;49m\u001b[39m*\u001b[39;49mkwargs)\n\u001b[1;32m   2419\u001b[0m \u001b[39m# The code below prevents the output from being displayed\u001b[39;00m\n\u001b[1;32m   2420\u001b[0m \u001b[39m# when using magics with decodator @output_can_be_silenced\u001b[39;00m\n\u001b[1;32m   2421\u001b[0m \u001b[39m# when the last Python token in the expression is a ';'.\u001b[39;00m\n\u001b[1;32m   2422\u001b[0m \u001b[39mif\u001b[39;00m \u001b[39mgetattr\u001b[39m(fn, magic\u001b[39m.\u001b[39mMAGIC_OUTPUT_CAN_BE_SILENCED, \u001b[39mFalse\u001b[39;00m):\n",
      "File \u001b[0;32m~/Documents/Emory/3_Research/Projects/CogMap_Paper/.venv/lib/python3.11/site-packages/IPython/core/magics/execution.py:712\u001b[0m, in \u001b[0;36mExecutionMagics.run\u001b[0;34m(self, parameter_s, runner, file_finder)\u001b[0m\n\u001b[1;32m    710\u001b[0m     \u001b[39mif\u001b[39;00m os\u001b[39m.\u001b[39mname \u001b[39m==\u001b[39m \u001b[39m'\u001b[39m\u001b[39mnt\u001b[39m\u001b[39m'\u001b[39m \u001b[39mand\u001b[39;00m re\u001b[39m.\u001b[39mmatch(\u001b[39mr\u001b[39m\u001b[39m\"\u001b[39m\u001b[39m^\u001b[39m\u001b[39m'\u001b[39m\u001b[39m.*\u001b[39m\u001b[39m'\u001b[39m\u001b[39m$\u001b[39m\u001b[39m\"\u001b[39m,fpath):\n\u001b[1;32m    711\u001b[0m         warn(\u001b[39m'\u001b[39m\u001b[39mFor Windows, use double quotes to wrap a filename: \u001b[39m\u001b[39m%r\u001b[39;00m\u001b[39mun \u001b[39m\u001b[39m\"\u001b[39m\u001b[39mmypath\u001b[39m\u001b[39m\\\\\u001b[39;00m\u001b[39mmyfile.py\u001b[39m\u001b[39m\"\u001b[39m\u001b[39m'\u001b[39m)\n\u001b[0;32m--> 712\u001b[0m     \u001b[39mraise\u001b[39;00m \u001b[39mException\u001b[39;00m(msg) \u001b[39mfrom\u001b[39;00m \u001b[39me\u001b[39;00m\n\u001b[1;32m    713\u001b[0m \u001b[39mexcept\u001b[39;00m \u001b[39mTypeError\u001b[39;00m:\n\u001b[1;32m    714\u001b[0m     \u001b[39mif\u001b[39;00m fpath \u001b[39min\u001b[39;00m sys\u001b[39m.\u001b[39mmeta_path:\n",
      "\u001b[0;31mException\u001b[0m: File `'/Users/yasminebassil/Documents/Emory/3_Research/Projects/CogMap_Paper/data_analysis/1_outcome_measures.ipynb'` not found."
     ]
    }
   ],
   "source": [
    "from IPython import get_ipython\n",
    "get_ipython().magic('reset -sf')\n",
    "\n",
    "# CHANGE THE FILE PATHS BELOW FOR YOUR COMPUTER\n",
    "fp_folder = '/Users/yasminebassil/Desktop/Data/' # filepath to data\n",
    "fp_code = '/Users/yasminebassil/Documents/Emory/3_Research/Projects/CogMap_Paper/data_analysis/' # filepath to codes\n",
    "\n",
    "%store fp_folder\n",
    "get_ipython().run_line_magic('run', fp_code + '1_calculate_outcomes.ipynb')\n",
    "get_ipython().run_line_magic('run', fp_code + '2_merge_data.ipynb')\n",
    "#make sure to change save location at the end of script\n",
    "get_ipython().run_line_magic('run', fp_code + '3_average_data.ipynb')\n",
    "#make sure to change save location at the end of script\n",
    "get_ipython().run_line_magic('run', fp_code + '4_target_data.ipynb')\n",
    "get_ipython().run_line_magic('run', fp_code + '5_graph_data.ipynb')\n",
    "print(\"Complete\")"
   ]
  }
 ],
 "metadata": {
  "kernelspec": {
   "display_name": "Python 3",
   "language": "python",
   "name": "python3"
  },
  "language_info": {
   "codemirror_mode": {
    "name": "ipython",
    "version": 3
   },
   "file_extension": ".py",
   "mimetype": "text/x-python",
   "name": "python",
   "nbconvert_exporter": "python",
   "pygments_lexer": "ipython3",
   "version": "3.11.4"
  },
  "orig_nbformat": 4
 },
 "nbformat": 4,
 "nbformat_minor": 2
}
