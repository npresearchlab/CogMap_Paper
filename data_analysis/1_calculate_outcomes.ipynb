{
 "cells": [
  {
   "cell_type": "markdown",
   "metadata": {},
   "source": [
    "## Importing Libraries"
   ]
  },
  {
   "cell_type": "code",
   "execution_count": 32,
   "metadata": {},
   "outputs": [
    {
     "name": "stdout",
     "output_type": "stream",
     "text": [
      "Collecting pandas\n",
      "  Downloading pandas-2.2.0-cp311-cp311-macosx_11_0_arm64.whl.metadata (19 kB)\n",
      "Collecting numpy<2,>=1.23.2 (from pandas)\n",
      "  Downloading numpy-1.26.3-cp311-cp311-macosx_11_0_arm64.whl.metadata (115 kB)\n",
      "\u001b[2K     \u001b[90m━━━━━━━━━━━━━━━━━━━━━━━━━━━━━━━━━━━━━━━\u001b[0m \u001b[32m115.1/115.1 kB\u001b[0m \u001b[31m5.4 MB/s\u001b[0m eta \u001b[36m0:00:00\u001b[0m\n",
      "\u001b[?25hCollecting python-dateutil>=2.8.2 (from pandas)\n",
      "  Downloading python_dateutil-2.8.2-py2.py3-none-any.whl (247 kB)\n",
      "\u001b[2K     \u001b[90m━━━━━━━━━━━━━━━━━━━━━━━━━━━━━━━━━━━━━━━\u001b[0m \u001b[32m247.7/247.7 kB\u001b[0m \u001b[31m9.5 MB/s\u001b[0m eta \u001b[36m0:00:00\u001b[0m\n",
      "\u001b[?25hCollecting pytz>=2020.1 (from pandas)\n",
      "  Downloading pytz-2024.1-py2.py3-none-any.whl.metadata (22 kB)\n",
      "Collecting tzdata>=2022.7 (from pandas)\n",
      "  Downloading tzdata-2023.4-py2.py3-none-any.whl.metadata (1.4 kB)\n",
      "Collecting six>=1.5 (from python-dateutil>=2.8.2->pandas)\n",
      "  Downloading six-1.16.0-py2.py3-none-any.whl (11 kB)\n",
      "Downloading pandas-2.2.0-cp311-cp311-macosx_11_0_arm64.whl (11.8 MB)\n",
      "\u001b[2K   \u001b[90m━━━━━━━━━━━━━━━━━━━━━━━━━━━━━━━━━━━━━━━━\u001b[0m \u001b[32m11.8/11.8 MB\u001b[0m \u001b[31m15.5 MB/s\u001b[0m eta \u001b[36m0:00:00\u001b[0m00:01\u001b[0m00:01\u001b[0m\n",
      "\u001b[?25hDownloading numpy-1.26.3-cp311-cp311-macosx_11_0_arm64.whl (14.0 MB)\n",
      "\u001b[2K   \u001b[90m━━━━━━━━━━━━━━━━━━━━━━━━━━━━━━━━━━━━━━━━\u001b[0m \u001b[32m14.0/14.0 MB\u001b[0m \u001b[31m11.8 MB/s\u001b[0m eta \u001b[36m0:00:00\u001b[0m00:01\u001b[0m00:01\u001b[0m\n",
      "\u001b[?25hDownloading pytz-2024.1-py2.py3-none-any.whl (505 kB)\n",
      "\u001b[2K   \u001b[90m━━━━━━━━━━━━━━━━━━━━━━━━━━━━━━━━━━━━━━━━\u001b[0m \u001b[32m505.5/505.5 kB\u001b[0m \u001b[31m12.1 MB/s\u001b[0m eta \u001b[36m0:00:00\u001b[0m00:01\u001b[0m\n",
      "\u001b[?25hDownloading tzdata-2023.4-py2.py3-none-any.whl (346 kB)\n",
      "\u001b[2K   \u001b[90m━━━━━━━━━━━━━━━━━━━━━━━━━━━━━━━━━━━━━━━━\u001b[0m \u001b[32m346.6/346.6 kB\u001b[0m \u001b[31m8.9 MB/s\u001b[0m eta \u001b[36m0:00:00\u001b[0m\n",
      "\u001b[?25hInstalling collected packages: pytz, tzdata, six, numpy, python-dateutil, pandas\n",
      "Successfully installed numpy-1.26.3 pandas-2.2.0 python-dateutil-2.8.2 pytz-2024.1 six-1.16.0 tzdata-2023.4\n",
      "Collecting pathlib\n",
      "  Downloading pathlib-1.0.1-py3-none-any.whl (14 kB)\n",
      "Installing collected packages: pathlib\n",
      "Successfully installed pathlib-1.0.1\n",
      "Requirement already satisfied: numpy in /Users/yasminebassil/Documents/Emory/3_Research/Projects/CogMap_Paper/.venv/lib/python3.11/site-packages (1.26.3)\n",
      "Collecting matplotlib\n",
      "  Downloading matplotlib-3.8.2-cp311-cp311-macosx_11_0_arm64.whl.metadata (5.8 kB)\n",
      "Collecting contourpy>=1.0.1 (from matplotlib)\n",
      "  Downloading contourpy-1.2.0-cp311-cp311-macosx_11_0_arm64.whl.metadata (5.8 kB)\n",
      "Collecting cycler>=0.10 (from matplotlib)\n",
      "  Downloading cycler-0.12.1-py3-none-any.whl.metadata (3.8 kB)\n",
      "Collecting fonttools>=4.22.0 (from matplotlib)\n",
      "  Downloading fonttools-4.47.2-cp311-cp311-macosx_10_9_universal2.whl.metadata (157 kB)\n",
      "\u001b[2K     \u001b[90m━━━━━━━━━━━━━━━━━━━━━━━━━━━━━━━━━━━━━━━\u001b[0m \u001b[32m157.6/157.6 kB\u001b[0m \u001b[31m5.5 MB/s\u001b[0m eta \u001b[36m0:00:00\u001b[0m\n",
      "\u001b[?25hCollecting kiwisolver>=1.3.1 (from matplotlib)\n",
      "  Downloading kiwisolver-1.4.5-cp311-cp311-macosx_11_0_arm64.whl.metadata (6.4 kB)\n",
      "Requirement already satisfied: numpy<2,>=1.21 in /Users/yasminebassil/Documents/Emory/3_Research/Projects/CogMap_Paper/.venv/lib/python3.11/site-packages (from matplotlib) (1.26.3)\n",
      "Collecting packaging>=20.0 (from matplotlib)\n",
      "  Downloading packaging-23.2-py3-none-any.whl.metadata (3.2 kB)\n",
      "Collecting pillow>=8 (from matplotlib)\n",
      "  Downloading pillow-10.2.0-cp311-cp311-macosx_11_0_arm64.whl.metadata (9.7 kB)\n",
      "Collecting pyparsing>=2.3.1 (from matplotlib)\n",
      "  Downloading pyparsing-3.1.1-py3-none-any.whl.metadata (5.1 kB)\n",
      "Requirement already satisfied: python-dateutil>=2.7 in /Users/yasminebassil/Documents/Emory/3_Research/Projects/CogMap_Paper/.venv/lib/python3.11/site-packages (from matplotlib) (2.8.2)\n",
      "Requirement already satisfied: six>=1.5 in /Users/yasminebassil/Documents/Emory/3_Research/Projects/CogMap_Paper/.venv/lib/python3.11/site-packages (from python-dateutil>=2.7->matplotlib) (1.16.0)\n",
      "Downloading matplotlib-3.8.2-cp311-cp311-macosx_11_0_arm64.whl (7.5 MB)\n",
      "\u001b[2K   \u001b[90m━━━━━━━━━━━━━━━━━━━━━━━━━━━━━━━━━━━━━━━━\u001b[0m \u001b[32m7.5/7.5 MB\u001b[0m \u001b[31m7.8 MB/s\u001b[0m eta \u001b[36m0:00:00\u001b[0m00:01\u001b[0m00:01\u001b[0mm\n",
      "\u001b[?25hDownloading contourpy-1.2.0-cp311-cp311-macosx_11_0_arm64.whl (243 kB)\n",
      "\u001b[2K   \u001b[90m━━━━━━━━━━━━━━━━━━━━━━━━━━━━━━━━━━━━━━━━\u001b[0m \u001b[32m243.4/243.4 kB\u001b[0m \u001b[31m11.3 MB/s\u001b[0m eta \u001b[36m0:00:00\u001b[0m\n",
      "\u001b[?25hDownloading cycler-0.12.1-py3-none-any.whl (8.3 kB)\n",
      "Downloading fonttools-4.47.2-cp311-cp311-macosx_10_9_universal2.whl (2.8 MB)\n",
      "\u001b[2K   \u001b[90m━━━━━━━━━━━━━━━━━━━━━━━━━━━━━━━━━━━━━━━━\u001b[0m \u001b[32m2.8/2.8 MB\u001b[0m \u001b[31m11.8 MB/s\u001b[0m eta \u001b[36m0:00:00\u001b[0m00:01\u001b[0m00:01\u001b[0m\n",
      "\u001b[?25hDownloading kiwisolver-1.4.5-cp311-cp311-macosx_11_0_arm64.whl (66 kB)\n",
      "\u001b[2K   \u001b[90m━━━━━━━━━━━━━━━━━━━━━━━━━━━━━━━━━━━━━━━━\u001b[0m \u001b[32m66.2/66.2 kB\u001b[0m \u001b[31m5.8 MB/s\u001b[0m eta \u001b[36m0:00:00\u001b[0m\n",
      "\u001b[?25hDownloading packaging-23.2-py3-none-any.whl (53 kB)\n",
      "\u001b[2K   \u001b[90m━━━━━━━━━━━━━━━━━━━━━━━━━━━━━━━━━━━━━━━━\u001b[0m \u001b[32m53.0/53.0 kB\u001b[0m \u001b[31m5.0 MB/s\u001b[0m eta \u001b[36m0:00:00\u001b[0m\n",
      "\u001b[?25hDownloading pillow-10.2.0-cp311-cp311-macosx_11_0_arm64.whl (3.3 MB)\n",
      "\u001b[2K   \u001b[90m━━━━━━━━━━━━━━━━━━━━━━━━━━━━━━━━━━━━━━━━\u001b[0m \u001b[32m3.3/3.3 MB\u001b[0m \u001b[31m13.4 MB/s\u001b[0m eta \u001b[36m0:00:00\u001b[0ma \u001b[36m0:00:01\u001b[0m\n",
      "\u001b[?25hDownloading pyparsing-3.1.1-py3-none-any.whl (103 kB)\n",
      "\u001b[2K   \u001b[90m━━━━━━━━━━━━━━━━━━━━━━━━━━━━━━━━━━━━━━━━\u001b[0m \u001b[32m103.1/103.1 kB\u001b[0m \u001b[31m9.0 MB/s\u001b[0m eta \u001b[36m0:00:00\u001b[0m\n",
      "\u001b[?25hInstalling collected packages: pyparsing, pillow, packaging, kiwisolver, fonttools, cycler, contourpy, matplotlib\n",
      "Successfully installed contourpy-1.2.0 cycler-0.12.1 fonttools-4.47.2 kiwisolver-1.4.5 matplotlib-3.8.2 packaging-23.2 pillow-10.2.0 pyparsing-3.1.1\n"
     ]
    }
   ],
   "source": [
    "#! pip install pandas\n",
    "#! pip install pathlib\n",
    "#! pip install numpy\n",
    "#! pip install matplotlib\n",
    "#! pip install ipykernel"
   ]
  },
  {
   "cell_type": "code",
   "execution_count": 2,
   "metadata": {},
   "outputs": [
    {
     "name": "stderr",
     "output_type": "stream",
     "text": [
      "/var/folders/vd/hgkjsb1j7gj04s6dypg9lc0c0000gn/T/ipykernel_16081/2947308622.py:2: DeprecationWarning: \n",
      "Pyarrow will become a required dependency of pandas in the next major release of pandas (pandas 3.0),\n",
      "(to allow more performant data types, such as the Arrow string type, and better interoperability with other libraries)\n",
      "but was not found to be installed on your system.\n",
      "If this would cause problems for you,\n",
      "please provide us feedback at https://github.com/pandas-dev/pandas/issues/54466\n",
      "        \n",
      "  import pandas as pd\n"
     ]
    }
   ],
   "source": [
    "# Importing relevant libraries\n",
    "import pandas as pd\n",
    "import numpy as np\n",
    "from pathlib import Path\n",
    "import os\n",
    "import matplotlib\n",
    "import matplotlib.pyplot as plt\n",
    "import math"
   ]
  },
  {
   "cell_type": "markdown",
   "metadata": {},
   "source": [
    "## Defining Functions"
   ]
  },
  {
   "cell_type": "code",
   "execution_count": 5,
   "metadata": {},
   "outputs": [],
   "source": [
    "def remove_first(x):\n",
    "  x =  x[1:]\n",
    "  x = float(x)\n",
    "  return x\n",
    "\n",
    "def remove_last(x):\n",
    "  x = x[:(len(x)-1)]\n",
    "  x = float(x)\n",
    "  return x\n",
    "\n",
    "def revalue(x):\n",
    "  if x >180:\n",
    "    x= -(360-x)\n",
    "  return x"
   ]
  },
  {
   "cell_type": "code",
   "execution_count": 6,
   "metadata": {},
   "outputs": [],
   "source": [
    "def process_data(filepath):\n",
    "  \n",
    "  b = pd.read_csv(filepath)\n",
    "\n",
    "  b = b.iloc[3:]\n",
    "  b = b.reset_index(drop=True)\n",
    "\n",
    "  b.rename(columns={'Lapsed Time': 'Time'}, inplace=True)\n",
    "  b.rename(columns={'Target Name': 'Target_Name'}, inplace=True)\n",
    "\n",
    "  b['Time_Diff'] = b['Time'].diff()\n",
    "  b['Time_Diff'] = b['Time_Diff'].apply(lambda x: max(0, x))\n",
    "\n",
    "  b['X Euler Angle'] = b['X Euler Angle'].apply(remove_first)\n",
    "  b['Z Euler Angle'] = b['Z Euler Angle'].apply(remove_last)\n",
    "\n",
    "  b['X_A'] = b['X Euler Angle']\n",
    "  b['Y_A'] = b['Y Euler Angle']\n",
    "  b['Z_A'] = b['Z Euler Angle']\n",
    "\n",
    "  b['X_A_Rev'] = b['X Euler Angle'].apply(revalue)\n",
    "  b['Y_A_Rev'] = b['Y Euler Angle'].apply(revalue)\n",
    "  b['Z_A_Rev'] = b['Z Euler Angle'].apply(revalue)\n",
    "\n",
    "  b['X_A_Rev_Diff'] = abs(b['X_A_Rev'].diff())\n",
    "  b['Y_A_Rev_Diff'] = abs(b['Y_A_Rev'].diff())\n",
    "  b['Z_A_Rev_Diff'] = abs(b['Z_A_Rev'].diff())\n",
    "\n",
    "  # Removing all rows that say Mission Complete\n",
    "  label_to_remove = 'Mission complete'\n",
    "  b = b[b['Target_Name'] != label_to_remove]\n",
    "\n",
    "  b.fillna(0, inplace=True)\n",
    "\n",
    "  b_df = b[['Target_Name', 'X', 'Z', 'X_A', 'X_A_Rev', 'X_A_Rev_Diff', 'Y_A', 'Y_A_Rev', 'Y_A_Rev_Diff', 'Z_A', 'Z_A_Rev', 'Z_A_Rev_Diff', 'Time', 'Time_Diff']].copy()\n",
    "  \n",
    "  return b_df "
   ]
  },
  {
   "cell_type": "code",
   "execution_count": 5,
   "metadata": {},
   "outputs": [],
   "source": [
    "def get_ct(data):\n",
    "    \n",
    "    grouped = data.groupby('Target_Name')\n",
    "    results = pd.DataFrame(columns=['Target_Name', 'Total_Time'])\n",
    "\n",
    "    # Iterate through each group\n",
    "    for label, group_data in grouped:\n",
    "        sum = group_data['Time_Diff'].sum()\n",
    "\n",
    "        # Store in a df with this iteration's results\n",
    "        iteration_df = pd.DataFrame({'Target_Name': [label], 'Total_Time': [sum]})\n",
    "\n",
    "        # Add to total results df\n",
    "        results = pd.concat([results, iteration_df], ignore_index=True)\n",
    "    \n",
    "    results = results.set_index('Target_Name', drop=True)\n",
    "    return(results)"
   ]
  },
  {
   "cell_type": "code",
   "execution_count": 6,
   "metadata": {},
   "outputs": [],
   "source": [
    "def get_ori_ct(data):\n",
    "    \n",
    "    grouped = data.groupby('Target_Name')\n",
    "    results = pd.DataFrame(columns=['Target_Name', 'Orientation_Time'])\n",
    "\n",
    "    # Iterate through each group\n",
    "    for label, group_data in grouped:\n",
    "        # Initialize a count variable\n",
    "        count = 0\n",
    "\n",
    "        # Iterate through the DataFrame\n",
    "        for index, row in group_data.iterrows():\n",
    "            if row['X'] == 0 and row['Z'] == -4.1:\n",
    "                count += row['Time_Diff']\n",
    "\n",
    "        # Store in a df with this iteration's results\n",
    "        iteration_df = pd.DataFrame({'Target_Name': [label], 'Orientation_Time': [count]})\n",
    "\n",
    "        # Add to total results df\n",
    "        results = pd.concat([results, iteration_df], ignore_index=True)\n",
    "    \n",
    "    results = results.set_index('Target_Name', drop=True)\n",
    "    return(results)\n"
   ]
  },
  {
   "cell_type": "code",
   "execution_count": 7,
   "metadata": {},
   "outputs": [],
   "source": [
    "def get_nav_ct(data):\n",
    "    \n",
    "    grouped = data.groupby('Target_Name')\n",
    "    results = pd.DataFrame(columns=['Target_Name', 'Navigation_Time'])\n",
    "\n",
    "    # Iterate through each group\n",
    "    for label, group_data in grouped:\n",
    "        # Initialize a count variable\n",
    "        count = 0\n",
    "\n",
    "        # Iterate through the DataFrame\n",
    "        for index, row in group_data.iterrows():\n",
    "            if row['X'] == 0 and row['Z'] == -4.1:\n",
    "                continue\n",
    "            else:\n",
    "                count += row['Time_Diff']\n",
    "\n",
    "        # Store in a df with this iteration's results\n",
    "        iteration_df = pd.DataFrame({'Target_Name': [label], 'Navigation_Time': [count]})\n",
    "\n",
    "        # Add to total results df\n",
    "        results = pd.concat([results, iteration_df], ignore_index=True)\n",
    "    \n",
    "    results = results.set_index('Target_Name', drop=True)\n",
    "    return(results)"
   ]
  },
  {
   "cell_type": "code",
   "execution_count": 8,
   "metadata": {},
   "outputs": [],
   "source": [
    "def get_dt(data):\n",
    "  \n",
    "  # Selecting columns\n",
    "  df = data.drop_duplicates(subset = ['X','Z','Target_Name'],keep = ('first'))\n",
    "\n",
    "  # Creating columns that we need\n",
    "  df['X_Diff'] = df['X'].diff()\n",
    "  df['Z_Diff'] = df['Z'].diff()\n",
    "  df = df[['Target_Name', 'X_Diff', 'Z_Diff','Time_Diff']].copy()\n",
    "\n",
    "  df['Distance'] = np.sqrt((df['X_Diff']**2) + (df['Z_Diff']**2))\n",
    "  dt = df.groupby(['Target_Name'])['Distance'].sum()\n",
    "\n",
    "  dt = pd.DataFrame(dt)\n",
    "\n",
    "  return(dt)"
   ]
  },
  {
   "cell_type": "code",
   "execution_count": 9,
   "metadata": {},
   "outputs": [],
   "source": [
    "def get_dwell(data):\n",
    "    # Group the DataFrame by 'Label'\n",
    "    grouped = data.groupby('Target_Name')\n",
    "\n",
    "    results = pd.DataFrame(columns = ['Target_Name', 'Mean_Dwell'])\n",
    "\n",
    "    # Iterate through each group\n",
    "    for label, group_data in grouped:\n",
    "        pos_grouped = group_data.groupby(['X', 'Z'])\n",
    "        times = []\n",
    "\n",
    "        for group_keys, group_data in pos_grouped:\n",
    "            list = pd.DataFrame(group_data)\n",
    "            first = list['Time'].iloc[0]\n",
    "            last = list['Time'].iloc[-1]\n",
    "            diff = last - first\n",
    "            times.append(diff)\n",
    "        \n",
    "        times.pop(0)\n",
    "        mean_dwell = np.mean(times)\n",
    "        times = []\n",
    "\n",
    "        # Store in a df with this iteration's results\n",
    "        iteration_df = pd.DataFrame({'Target_Name': [label], 'Mean_Dwell': [mean_dwell]})\n",
    "\n",
    "        # Add to total results df\n",
    "        results = pd.concat([results, iteration_df], ignore_index=True)\n",
    "\n",
    "    results = results.set_index('Target_Name', drop=True)\n",
    "    return(results)"
   ]
  },
  {
   "cell_type": "code",
   "execution_count": 10,
   "metadata": {},
   "outputs": [],
   "source": [
    "def get_teleport(data):\n",
    "    grouped = data.groupby('Target_Name')\n",
    "    results = pd.DataFrame(columns=['Target_Name', 'Teleportations'])\n",
    "\n",
    "    # Iterate through each group\n",
    "    for label, group_data in grouped:\n",
    "    # Create an empty set to store unique positions\n",
    "        unique_positions = set()\n",
    "\n",
    "        # Iterate through the DataFrame\n",
    "        for index, row in group_data.iterrows():\n",
    "            x, y = row['X'], row['Z']\n",
    "            \n",
    "            # Add the (X, Y) tuple to the set\n",
    "            unique_positions.add((x, y))\n",
    "\n",
    "        # Calculate the number of unique positions\n",
    "        num_unique_positions = len(unique_positions)\n",
    "\n",
    "        # Store in a df with this iteration's results\n",
    "        iteration_df = pd.DataFrame({'Target_Name': [label], 'Teleportations': [num_unique_positions]})\n",
    "\n",
    "        # Add to total results df\n",
    "        results = pd.concat([results, iteration_df], ignore_index=True)\n",
    "\n",
    "    results = results.set_index('Target_Name', drop=True)\n",
    "    return(results)\n"
   ]
  },
  {
   "cell_type": "markdown",
   "metadata": {},
   "source": [
    "## Getting All Data"
   ]
  },
  {
   "cell_type": "code",
   "execution_count": 3,
   "metadata": {},
   "outputs": [
    {
     "name": "stdout",
     "output_type": "stream",
     "text": [
      "['BNC01', 'BNC02', 'BNC03', 'BNC04', 'BNC05', 'BNC07', 'BNC08', 'BNC09', 'BNC11', 'BNC12', 'BNC23', 'BNC26', 'BNC27', 'BNC28', 'BNC29', 'BNC30', 'BNC31', 'BNC32', 'BNC33', 'BNC34', 'BNC35', 'BNC36', 'BNC37', 'BNC50', 'BNC51', 'BNC52']\n"
     ]
    }
   ],
   "source": [
    "# Retrieving filepath to all data folders\n",
    "#get_ipython().run_line_magic('store -r', 'fp_folder')\n",
    "%store -r fp_folder\n",
    "\n",
    "sub_folders = []\n",
    "for i in os.listdir(fp_folder):\n",
    "    if os.path.isdir(os.path.join(fp_folder, i)) and (i.startswith('BNC') or i.startswith('NAV')):\n",
    "        sub_folders.append(i)\n",
    "\n",
    "num_subjects = len(sub_folders)\n",
    "sub_folders = sorted(sub_folders)\n",
    "print(sub_folders)"
   ]
  },
  {
   "cell_type": "code",
   "execution_count": 14,
   "metadata": {},
   "outputs": [
    {
     "name": "stderr",
     "output_type": "stream",
     "text": [
      "/var/folders/vd/hgkjsb1j7gj04s6dypg9lc0c0000gn/T/ipykernel_52417/4279315902.py:7: SettingWithCopyWarning: \n",
      "A value is trying to be set on a copy of a slice from a DataFrame.\n",
      "Try using .loc[row_indexer,col_indexer] = value instead\n",
      "\n",
      "See the caveats in the documentation: https://pandas.pydata.org/pandas-docs/stable/user_guide/indexing.html#returning-a-view-versus-a-copy\n",
      "  df['X_Diff'] = df['X'].diff()\n",
      "/var/folders/vd/hgkjsb1j7gj04s6dypg9lc0c0000gn/T/ipykernel_52417/4279315902.py:8: SettingWithCopyWarning: \n",
      "A value is trying to be set on a copy of a slice from a DataFrame.\n",
      "Try using .loc[row_indexer,col_indexer] = value instead\n",
      "\n",
      "See the caveats in the documentation: https://pandas.pydata.org/pandas-docs/stable/user_guide/indexing.html#returning-a-view-versus-a-copy\n",
      "  df['Z_Diff'] = df['Z'].diff()\n",
      "/var/folders/vd/hgkjsb1j7gj04s6dypg9lc0c0000gn/T/ipykernel_52417/4279315902.py:7: SettingWithCopyWarning: \n",
      "A value is trying to be set on a copy of a slice from a DataFrame.\n",
      "Try using .loc[row_indexer,col_indexer] = value instead\n",
      "\n",
      "See the caveats in the documentation: https://pandas.pydata.org/pandas-docs/stable/user_guide/indexing.html#returning-a-view-versus-a-copy\n",
      "  df['X_Diff'] = df['X'].diff()\n",
      "/var/folders/vd/hgkjsb1j7gj04s6dypg9lc0c0000gn/T/ipykernel_52417/4279315902.py:8: SettingWithCopyWarning: \n",
      "A value is trying to be set on a copy of a slice from a DataFrame.\n",
      "Try using .loc[row_indexer,col_indexer] = value instead\n",
      "\n",
      "See the caveats in the documentation: https://pandas.pydata.org/pandas-docs/stable/user_guide/indexing.html#returning-a-view-versus-a-copy\n",
      "  df['Z_Diff'] = df['Z'].diff()\n",
      "/var/folders/vd/hgkjsb1j7gj04s6dypg9lc0c0000gn/T/ipykernel_52417/4279315902.py:7: SettingWithCopyWarning: \n",
      "A value is trying to be set on a copy of a slice from a DataFrame.\n",
      "Try using .loc[row_indexer,col_indexer] = value instead\n",
      "\n",
      "See the caveats in the documentation: https://pandas.pydata.org/pandas-docs/stable/user_guide/indexing.html#returning-a-view-versus-a-copy\n",
      "  df['X_Diff'] = df['X'].diff()\n",
      "/var/folders/vd/hgkjsb1j7gj04s6dypg9lc0c0000gn/T/ipykernel_52417/4279315902.py:8: SettingWithCopyWarning: \n",
      "A value is trying to be set on a copy of a slice from a DataFrame.\n",
      "Try using .loc[row_indexer,col_indexer] = value instead\n",
      "\n",
      "See the caveats in the documentation: https://pandas.pydata.org/pandas-docs/stable/user_guide/indexing.html#returning-a-view-versus-a-copy\n",
      "  df['Z_Diff'] = df['Z'].diff()\n",
      "/var/folders/vd/hgkjsb1j7gj04s6dypg9lc0c0000gn/T/ipykernel_52417/4279315902.py:7: SettingWithCopyWarning: \n",
      "A value is trying to be set on a copy of a slice from a DataFrame.\n",
      "Try using .loc[row_indexer,col_indexer] = value instead\n",
      "\n",
      "See the caveats in the documentation: https://pandas.pydata.org/pandas-docs/stable/user_guide/indexing.html#returning-a-view-versus-a-copy\n",
      "  df['X_Diff'] = df['X'].diff()\n",
      "/var/folders/vd/hgkjsb1j7gj04s6dypg9lc0c0000gn/T/ipykernel_52417/4279315902.py:8: SettingWithCopyWarning: \n",
      "A value is trying to be set on a copy of a slice from a DataFrame.\n",
      "Try using .loc[row_indexer,col_indexer] = value instead\n",
      "\n",
      "See the caveats in the documentation: https://pandas.pydata.org/pandas-docs/stable/user_guide/indexing.html#returning-a-view-versus-a-copy\n",
      "  df['Z_Diff'] = df['Z'].diff()\n",
      "/var/folders/vd/hgkjsb1j7gj04s6dypg9lc0c0000gn/T/ipykernel_52417/4279315902.py:7: SettingWithCopyWarning: \n",
      "A value is trying to be set on a copy of a slice from a DataFrame.\n",
      "Try using .loc[row_indexer,col_indexer] = value instead\n",
      "\n",
      "See the caveats in the documentation: https://pandas.pydata.org/pandas-docs/stable/user_guide/indexing.html#returning-a-view-versus-a-copy\n",
      "  df['X_Diff'] = df['X'].diff()\n",
      "/var/folders/vd/hgkjsb1j7gj04s6dypg9lc0c0000gn/T/ipykernel_52417/4279315902.py:8: SettingWithCopyWarning: \n",
      "A value is trying to be set on a copy of a slice from a DataFrame.\n",
      "Try using .loc[row_indexer,col_indexer] = value instead\n",
      "\n",
      "See the caveats in the documentation: https://pandas.pydata.org/pandas-docs/stable/user_guide/indexing.html#returning-a-view-versus-a-copy\n",
      "  df['Z_Diff'] = df['Z'].diff()\n",
      "/var/folders/vd/hgkjsb1j7gj04s6dypg9lc0c0000gn/T/ipykernel_52417/4279315902.py:7: SettingWithCopyWarning: \n",
      "A value is trying to be set on a copy of a slice from a DataFrame.\n",
      "Try using .loc[row_indexer,col_indexer] = value instead\n",
      "\n",
      "See the caveats in the documentation: https://pandas.pydata.org/pandas-docs/stable/user_guide/indexing.html#returning-a-view-versus-a-copy\n",
      "  df['X_Diff'] = df['X'].diff()\n",
      "/var/folders/vd/hgkjsb1j7gj04s6dypg9lc0c0000gn/T/ipykernel_52417/4279315902.py:8: SettingWithCopyWarning: \n",
      "A value is trying to be set on a copy of a slice from a DataFrame.\n",
      "Try using .loc[row_indexer,col_indexer] = value instead\n",
      "\n",
      "See the caveats in the documentation: https://pandas.pydata.org/pandas-docs/stable/user_guide/indexing.html#returning-a-view-versus-a-copy\n",
      "  df['Z_Diff'] = df['Z'].diff()\n",
      "/var/folders/vd/hgkjsb1j7gj04s6dypg9lc0c0000gn/T/ipykernel_52417/4279315902.py:7: SettingWithCopyWarning: \n",
      "A value is trying to be set on a copy of a slice from a DataFrame.\n",
      "Try using .loc[row_indexer,col_indexer] = value instead\n",
      "\n",
      "See the caveats in the documentation: https://pandas.pydata.org/pandas-docs/stable/user_guide/indexing.html#returning-a-view-versus-a-copy\n",
      "  df['X_Diff'] = df['X'].diff()\n",
      "/var/folders/vd/hgkjsb1j7gj04s6dypg9lc0c0000gn/T/ipykernel_52417/4279315902.py:8: SettingWithCopyWarning: \n",
      "A value is trying to be set on a copy of a slice from a DataFrame.\n",
      "Try using .loc[row_indexer,col_indexer] = value instead\n",
      "\n",
      "See the caveats in the documentation: https://pandas.pydata.org/pandas-docs/stable/user_guide/indexing.html#returning-a-view-versus-a-copy\n",
      "  df['Z_Diff'] = df['Z'].diff()\n",
      "/var/folders/vd/hgkjsb1j7gj04s6dypg9lc0c0000gn/T/ipykernel_52417/4279315902.py:7: SettingWithCopyWarning: \n",
      "A value is trying to be set on a copy of a slice from a DataFrame.\n",
      "Try using .loc[row_indexer,col_indexer] = value instead\n",
      "\n",
      "See the caveats in the documentation: https://pandas.pydata.org/pandas-docs/stable/user_guide/indexing.html#returning-a-view-versus-a-copy\n",
      "  df['X_Diff'] = df['X'].diff()\n",
      "/var/folders/vd/hgkjsb1j7gj04s6dypg9lc0c0000gn/T/ipykernel_52417/4279315902.py:8: SettingWithCopyWarning: \n",
      "A value is trying to be set on a copy of a slice from a DataFrame.\n",
      "Try using .loc[row_indexer,col_indexer] = value instead\n",
      "\n",
      "See the caveats in the documentation: https://pandas.pydata.org/pandas-docs/stable/user_guide/indexing.html#returning-a-view-versus-a-copy\n",
      "  df['Z_Diff'] = df['Z'].diff()\n",
      "/var/folders/vd/hgkjsb1j7gj04s6dypg9lc0c0000gn/T/ipykernel_52417/4279315902.py:7: SettingWithCopyWarning: \n",
      "A value is trying to be set on a copy of a slice from a DataFrame.\n",
      "Try using .loc[row_indexer,col_indexer] = value instead\n",
      "\n",
      "See the caveats in the documentation: https://pandas.pydata.org/pandas-docs/stable/user_guide/indexing.html#returning-a-view-versus-a-copy\n",
      "  df['X_Diff'] = df['X'].diff()\n",
      "/var/folders/vd/hgkjsb1j7gj04s6dypg9lc0c0000gn/T/ipykernel_52417/4279315902.py:8: SettingWithCopyWarning: \n",
      "A value is trying to be set on a copy of a slice from a DataFrame.\n",
      "Try using .loc[row_indexer,col_indexer] = value instead\n",
      "\n",
      "See the caveats in the documentation: https://pandas.pydata.org/pandas-docs/stable/user_guide/indexing.html#returning-a-view-versus-a-copy\n",
      "  df['Z_Diff'] = df['Z'].diff()\n",
      "/var/folders/vd/hgkjsb1j7gj04s6dypg9lc0c0000gn/T/ipykernel_52417/4279315902.py:7: SettingWithCopyWarning: \n",
      "A value is trying to be set on a copy of a slice from a DataFrame.\n",
      "Try using .loc[row_indexer,col_indexer] = value instead\n",
      "\n",
      "See the caveats in the documentation: https://pandas.pydata.org/pandas-docs/stable/user_guide/indexing.html#returning-a-view-versus-a-copy\n",
      "  df['X_Diff'] = df['X'].diff()\n",
      "/var/folders/vd/hgkjsb1j7gj04s6dypg9lc0c0000gn/T/ipykernel_52417/4279315902.py:8: SettingWithCopyWarning: \n",
      "A value is trying to be set on a copy of a slice from a DataFrame.\n",
      "Try using .loc[row_indexer,col_indexer] = value instead\n",
      "\n",
      "See the caveats in the documentation: https://pandas.pydata.org/pandas-docs/stable/user_guide/indexing.html#returning-a-view-versus-a-copy\n",
      "  df['Z_Diff'] = df['Z'].diff()\n",
      "/var/folders/vd/hgkjsb1j7gj04s6dypg9lc0c0000gn/T/ipykernel_52417/4279315902.py:7: SettingWithCopyWarning: \n",
      "A value is trying to be set on a copy of a slice from a DataFrame.\n",
      "Try using .loc[row_indexer,col_indexer] = value instead\n",
      "\n",
      "See the caveats in the documentation: https://pandas.pydata.org/pandas-docs/stable/user_guide/indexing.html#returning-a-view-versus-a-copy\n",
      "  df['X_Diff'] = df['X'].diff()\n",
      "/var/folders/vd/hgkjsb1j7gj04s6dypg9lc0c0000gn/T/ipykernel_52417/4279315902.py:8: SettingWithCopyWarning: \n",
      "A value is trying to be set on a copy of a slice from a DataFrame.\n",
      "Try using .loc[row_indexer,col_indexer] = value instead\n",
      "\n",
      "See the caveats in the documentation: https://pandas.pydata.org/pandas-docs/stable/user_guide/indexing.html#returning-a-view-versus-a-copy\n",
      "  df['Z_Diff'] = df['Z'].diff()\n",
      "/var/folders/vd/hgkjsb1j7gj04s6dypg9lc0c0000gn/T/ipykernel_52417/4279315902.py:7: SettingWithCopyWarning: \n",
      "A value is trying to be set on a copy of a slice from a DataFrame.\n",
      "Try using .loc[row_indexer,col_indexer] = value instead\n",
      "\n",
      "See the caveats in the documentation: https://pandas.pydata.org/pandas-docs/stable/user_guide/indexing.html#returning-a-view-versus-a-copy\n",
      "  df['X_Diff'] = df['X'].diff()\n",
      "/var/folders/vd/hgkjsb1j7gj04s6dypg9lc0c0000gn/T/ipykernel_52417/4279315902.py:8: SettingWithCopyWarning: \n",
      "A value is trying to be set on a copy of a slice from a DataFrame.\n",
      "Try using .loc[row_indexer,col_indexer] = value instead\n",
      "\n",
      "See the caveats in the documentation: https://pandas.pydata.org/pandas-docs/stable/user_guide/indexing.html#returning-a-view-versus-a-copy\n",
      "  df['Z_Diff'] = df['Z'].diff()\n",
      "/var/folders/vd/hgkjsb1j7gj04s6dypg9lc0c0000gn/T/ipykernel_52417/4279315902.py:7: SettingWithCopyWarning: \n",
      "A value is trying to be set on a copy of a slice from a DataFrame.\n",
      "Try using .loc[row_indexer,col_indexer] = value instead\n",
      "\n",
      "See the caveats in the documentation: https://pandas.pydata.org/pandas-docs/stable/user_guide/indexing.html#returning-a-view-versus-a-copy\n",
      "  df['X_Diff'] = df['X'].diff()\n",
      "/var/folders/vd/hgkjsb1j7gj04s6dypg9lc0c0000gn/T/ipykernel_52417/4279315902.py:8: SettingWithCopyWarning: \n",
      "A value is trying to be set on a copy of a slice from a DataFrame.\n",
      "Try using .loc[row_indexer,col_indexer] = value instead\n",
      "\n",
      "See the caveats in the documentation: https://pandas.pydata.org/pandas-docs/stable/user_guide/indexing.html#returning-a-view-versus-a-copy\n",
      "  df['Z_Diff'] = df['Z'].diff()\n",
      "/var/folders/vd/hgkjsb1j7gj04s6dypg9lc0c0000gn/T/ipykernel_52417/4279315902.py:7: SettingWithCopyWarning: \n",
      "A value is trying to be set on a copy of a slice from a DataFrame.\n",
      "Try using .loc[row_indexer,col_indexer] = value instead\n",
      "\n",
      "See the caveats in the documentation: https://pandas.pydata.org/pandas-docs/stable/user_guide/indexing.html#returning-a-view-versus-a-copy\n",
      "  df['X_Diff'] = df['X'].diff()\n",
      "/var/folders/vd/hgkjsb1j7gj04s6dypg9lc0c0000gn/T/ipykernel_52417/4279315902.py:8: SettingWithCopyWarning: \n",
      "A value is trying to be set on a copy of a slice from a DataFrame.\n",
      "Try using .loc[row_indexer,col_indexer] = value instead\n",
      "\n",
      "See the caveats in the documentation: https://pandas.pydata.org/pandas-docs/stable/user_guide/indexing.html#returning-a-view-versus-a-copy\n",
      "  df['Z_Diff'] = df['Z'].diff()\n",
      "/var/folders/vd/hgkjsb1j7gj04s6dypg9lc0c0000gn/T/ipykernel_52417/4279315902.py:7: SettingWithCopyWarning: \n",
      "A value is trying to be set on a copy of a slice from a DataFrame.\n",
      "Try using .loc[row_indexer,col_indexer] = value instead\n",
      "\n",
      "See the caveats in the documentation: https://pandas.pydata.org/pandas-docs/stable/user_guide/indexing.html#returning-a-view-versus-a-copy\n",
      "  df['X_Diff'] = df['X'].diff()\n",
      "/var/folders/vd/hgkjsb1j7gj04s6dypg9lc0c0000gn/T/ipykernel_52417/4279315902.py:8: SettingWithCopyWarning: \n",
      "A value is trying to be set on a copy of a slice from a DataFrame.\n",
      "Try using .loc[row_indexer,col_indexer] = value instead\n",
      "\n",
      "See the caveats in the documentation: https://pandas.pydata.org/pandas-docs/stable/user_guide/indexing.html#returning-a-view-versus-a-copy\n",
      "  df['Z_Diff'] = df['Z'].diff()\n",
      "/var/folders/vd/hgkjsb1j7gj04s6dypg9lc0c0000gn/T/ipykernel_52417/4279315902.py:7: SettingWithCopyWarning: \n",
      "A value is trying to be set on a copy of a slice from a DataFrame.\n",
      "Try using .loc[row_indexer,col_indexer] = value instead\n",
      "\n",
      "See the caveats in the documentation: https://pandas.pydata.org/pandas-docs/stable/user_guide/indexing.html#returning-a-view-versus-a-copy\n",
      "  df['X_Diff'] = df['X'].diff()\n",
      "/var/folders/vd/hgkjsb1j7gj04s6dypg9lc0c0000gn/T/ipykernel_52417/4279315902.py:8: SettingWithCopyWarning: \n",
      "A value is trying to be set on a copy of a slice from a DataFrame.\n",
      "Try using .loc[row_indexer,col_indexer] = value instead\n",
      "\n",
      "See the caveats in the documentation: https://pandas.pydata.org/pandas-docs/stable/user_guide/indexing.html#returning-a-view-versus-a-copy\n",
      "  df['Z_Diff'] = df['Z'].diff()\n",
      "/var/folders/vd/hgkjsb1j7gj04s6dypg9lc0c0000gn/T/ipykernel_52417/4279315902.py:7: SettingWithCopyWarning: \n",
      "A value is trying to be set on a copy of a slice from a DataFrame.\n",
      "Try using .loc[row_indexer,col_indexer] = value instead\n",
      "\n",
      "See the caveats in the documentation: https://pandas.pydata.org/pandas-docs/stable/user_guide/indexing.html#returning-a-view-versus-a-copy\n",
      "  df['X_Diff'] = df['X'].diff()\n",
      "/var/folders/vd/hgkjsb1j7gj04s6dypg9lc0c0000gn/T/ipykernel_52417/4279315902.py:8: SettingWithCopyWarning: \n",
      "A value is trying to be set on a copy of a slice from a DataFrame.\n",
      "Try using .loc[row_indexer,col_indexer] = value instead\n",
      "\n",
      "See the caveats in the documentation: https://pandas.pydata.org/pandas-docs/stable/user_guide/indexing.html#returning-a-view-versus-a-copy\n",
      "  df['Z_Diff'] = df['Z'].diff()\n",
      "/var/folders/vd/hgkjsb1j7gj04s6dypg9lc0c0000gn/T/ipykernel_52417/4279315902.py:7: SettingWithCopyWarning: \n",
      "A value is trying to be set on a copy of a slice from a DataFrame.\n",
      "Try using .loc[row_indexer,col_indexer] = value instead\n",
      "\n",
      "See the caveats in the documentation: https://pandas.pydata.org/pandas-docs/stable/user_guide/indexing.html#returning-a-view-versus-a-copy\n",
      "  df['X_Diff'] = df['X'].diff()\n",
      "/var/folders/vd/hgkjsb1j7gj04s6dypg9lc0c0000gn/T/ipykernel_52417/4279315902.py:8: SettingWithCopyWarning: \n",
      "A value is trying to be set on a copy of a slice from a DataFrame.\n",
      "Try using .loc[row_indexer,col_indexer] = value instead\n",
      "\n",
      "See the caveats in the documentation: https://pandas.pydata.org/pandas-docs/stable/user_guide/indexing.html#returning-a-view-versus-a-copy\n",
      "  df['Z_Diff'] = df['Z'].diff()\n",
      "/var/folders/vd/hgkjsb1j7gj04s6dypg9lc0c0000gn/T/ipykernel_52417/4279315902.py:7: SettingWithCopyWarning: \n",
      "A value is trying to be set on a copy of a slice from a DataFrame.\n",
      "Try using .loc[row_indexer,col_indexer] = value instead\n",
      "\n",
      "See the caveats in the documentation: https://pandas.pydata.org/pandas-docs/stable/user_guide/indexing.html#returning-a-view-versus-a-copy\n",
      "  df['X_Diff'] = df['X'].diff()\n",
      "/var/folders/vd/hgkjsb1j7gj04s6dypg9lc0c0000gn/T/ipykernel_52417/4279315902.py:8: SettingWithCopyWarning: \n",
      "A value is trying to be set on a copy of a slice from a DataFrame.\n",
      "Try using .loc[row_indexer,col_indexer] = value instead\n",
      "\n",
      "See the caveats in the documentation: https://pandas.pydata.org/pandas-docs/stable/user_guide/indexing.html#returning-a-view-versus-a-copy\n",
      "  df['Z_Diff'] = df['Z'].diff()\n",
      "/var/folders/vd/hgkjsb1j7gj04s6dypg9lc0c0000gn/T/ipykernel_52417/4279315902.py:7: SettingWithCopyWarning: \n",
      "A value is trying to be set on a copy of a slice from a DataFrame.\n",
      "Try using .loc[row_indexer,col_indexer] = value instead\n",
      "\n",
      "See the caveats in the documentation: https://pandas.pydata.org/pandas-docs/stable/user_guide/indexing.html#returning-a-view-versus-a-copy\n",
      "  df['X_Diff'] = df['X'].diff()\n",
      "/var/folders/vd/hgkjsb1j7gj04s6dypg9lc0c0000gn/T/ipykernel_52417/4279315902.py:8: SettingWithCopyWarning: \n",
      "A value is trying to be set on a copy of a slice from a DataFrame.\n",
      "Try using .loc[row_indexer,col_indexer] = value instead\n",
      "\n",
      "See the caveats in the documentation: https://pandas.pydata.org/pandas-docs/stable/user_guide/indexing.html#returning-a-view-versus-a-copy\n",
      "  df['Z_Diff'] = df['Z'].diff()\n",
      "/var/folders/vd/hgkjsb1j7gj04s6dypg9lc0c0000gn/T/ipykernel_52417/4279315902.py:7: SettingWithCopyWarning: \n",
      "A value is trying to be set on a copy of a slice from a DataFrame.\n",
      "Try using .loc[row_indexer,col_indexer] = value instead\n",
      "\n",
      "See the caveats in the documentation: https://pandas.pydata.org/pandas-docs/stable/user_guide/indexing.html#returning-a-view-versus-a-copy\n",
      "  df['X_Diff'] = df['X'].diff()\n",
      "/var/folders/vd/hgkjsb1j7gj04s6dypg9lc0c0000gn/T/ipykernel_52417/4279315902.py:8: SettingWithCopyWarning: \n",
      "A value is trying to be set on a copy of a slice from a DataFrame.\n",
      "Try using .loc[row_indexer,col_indexer] = value instead\n",
      "\n",
      "See the caveats in the documentation: https://pandas.pydata.org/pandas-docs/stable/user_guide/indexing.html#returning-a-view-versus-a-copy\n",
      "  df['Z_Diff'] = df['Z'].diff()\n",
      "/var/folders/vd/hgkjsb1j7gj04s6dypg9lc0c0000gn/T/ipykernel_52417/4279315902.py:7: SettingWithCopyWarning: \n",
      "A value is trying to be set on a copy of a slice from a DataFrame.\n",
      "Try using .loc[row_indexer,col_indexer] = value instead\n",
      "\n",
      "See the caveats in the documentation: https://pandas.pydata.org/pandas-docs/stable/user_guide/indexing.html#returning-a-view-versus-a-copy\n",
      "  df['X_Diff'] = df['X'].diff()\n",
      "/var/folders/vd/hgkjsb1j7gj04s6dypg9lc0c0000gn/T/ipykernel_52417/4279315902.py:8: SettingWithCopyWarning: \n",
      "A value is trying to be set on a copy of a slice from a DataFrame.\n",
      "Try using .loc[row_indexer,col_indexer] = value instead\n",
      "\n",
      "See the caveats in the documentation: https://pandas.pydata.org/pandas-docs/stable/user_guide/indexing.html#returning-a-view-versus-a-copy\n",
      "  df['Z_Diff'] = df['Z'].diff()\n",
      "/var/folders/vd/hgkjsb1j7gj04s6dypg9lc0c0000gn/T/ipykernel_52417/4279315902.py:7: SettingWithCopyWarning: \n",
      "A value is trying to be set on a copy of a slice from a DataFrame.\n",
      "Try using .loc[row_indexer,col_indexer] = value instead\n",
      "\n",
      "See the caveats in the documentation: https://pandas.pydata.org/pandas-docs/stable/user_guide/indexing.html#returning-a-view-versus-a-copy\n",
      "  df['X_Diff'] = df['X'].diff()\n",
      "/var/folders/vd/hgkjsb1j7gj04s6dypg9lc0c0000gn/T/ipykernel_52417/4279315902.py:8: SettingWithCopyWarning: \n",
      "A value is trying to be set on a copy of a slice from a DataFrame.\n",
      "Try using .loc[row_indexer,col_indexer] = value instead\n",
      "\n",
      "See the caveats in the documentation: https://pandas.pydata.org/pandas-docs/stable/user_guide/indexing.html#returning-a-view-versus-a-copy\n",
      "  df['Z_Diff'] = df['Z'].diff()\n",
      "/var/folders/vd/hgkjsb1j7gj04s6dypg9lc0c0000gn/T/ipykernel_52417/4279315902.py:7: SettingWithCopyWarning: \n",
      "A value is trying to be set on a copy of a slice from a DataFrame.\n",
      "Try using .loc[row_indexer,col_indexer] = value instead\n",
      "\n",
      "See the caveats in the documentation: https://pandas.pydata.org/pandas-docs/stable/user_guide/indexing.html#returning-a-view-versus-a-copy\n",
      "  df['X_Diff'] = df['X'].diff()\n",
      "/var/folders/vd/hgkjsb1j7gj04s6dypg9lc0c0000gn/T/ipykernel_52417/4279315902.py:8: SettingWithCopyWarning: \n",
      "A value is trying to be set on a copy of a slice from a DataFrame.\n",
      "Try using .loc[row_indexer,col_indexer] = value instead\n",
      "\n",
      "See the caveats in the documentation: https://pandas.pydata.org/pandas-docs/stable/user_guide/indexing.html#returning-a-view-versus-a-copy\n",
      "  df['Z_Diff'] = df['Z'].diff()\n",
      "/var/folders/vd/hgkjsb1j7gj04s6dypg9lc0c0000gn/T/ipykernel_52417/4279315902.py:7: SettingWithCopyWarning: \n",
      "A value is trying to be set on a copy of a slice from a DataFrame.\n",
      "Try using .loc[row_indexer,col_indexer] = value instead\n",
      "\n",
      "See the caveats in the documentation: https://pandas.pydata.org/pandas-docs/stable/user_guide/indexing.html#returning-a-view-versus-a-copy\n",
      "  df['X_Diff'] = df['X'].diff()\n",
      "/var/folders/vd/hgkjsb1j7gj04s6dypg9lc0c0000gn/T/ipykernel_52417/4279315902.py:8: SettingWithCopyWarning: \n",
      "A value is trying to be set on a copy of a slice from a DataFrame.\n",
      "Try using .loc[row_indexer,col_indexer] = value instead\n",
      "\n",
      "See the caveats in the documentation: https://pandas.pydata.org/pandas-docs/stable/user_guide/indexing.html#returning-a-view-versus-a-copy\n",
      "  df['Z_Diff'] = df['Z'].diff()\n",
      "/var/folders/vd/hgkjsb1j7gj04s6dypg9lc0c0000gn/T/ipykernel_52417/4279315902.py:7: SettingWithCopyWarning: \n",
      "A value is trying to be set on a copy of a slice from a DataFrame.\n",
      "Try using .loc[row_indexer,col_indexer] = value instead\n",
      "\n",
      "See the caveats in the documentation: https://pandas.pydata.org/pandas-docs/stable/user_guide/indexing.html#returning-a-view-versus-a-copy\n",
      "  df['X_Diff'] = df['X'].diff()\n",
      "/var/folders/vd/hgkjsb1j7gj04s6dypg9lc0c0000gn/T/ipykernel_52417/4279315902.py:8: SettingWithCopyWarning: \n",
      "A value is trying to be set on a copy of a slice from a DataFrame.\n",
      "Try using .loc[row_indexer,col_indexer] = value instead\n",
      "\n",
      "See the caveats in the documentation: https://pandas.pydata.org/pandas-docs/stable/user_guide/indexing.html#returning-a-view-versus-a-copy\n",
      "  df['Z_Diff'] = df['Z'].diff()\n",
      "/var/folders/vd/hgkjsb1j7gj04s6dypg9lc0c0000gn/T/ipykernel_52417/4279315902.py:7: SettingWithCopyWarning: \n",
      "A value is trying to be set on a copy of a slice from a DataFrame.\n",
      "Try using .loc[row_indexer,col_indexer] = value instead\n",
      "\n",
      "See the caveats in the documentation: https://pandas.pydata.org/pandas-docs/stable/user_guide/indexing.html#returning-a-view-versus-a-copy\n",
      "  df['X_Diff'] = df['X'].diff()\n",
      "/var/folders/vd/hgkjsb1j7gj04s6dypg9lc0c0000gn/T/ipykernel_52417/4279315902.py:8: SettingWithCopyWarning: \n",
      "A value is trying to be set on a copy of a slice from a DataFrame.\n",
      "Try using .loc[row_indexer,col_indexer] = value instead\n",
      "\n",
      "See the caveats in the documentation: https://pandas.pydata.org/pandas-docs/stable/user_guide/indexing.html#returning-a-view-versus-a-copy\n",
      "  df['Z_Diff'] = df['Z'].diff()\n",
      "/var/folders/vd/hgkjsb1j7gj04s6dypg9lc0c0000gn/T/ipykernel_52417/4279315902.py:7: SettingWithCopyWarning: \n",
      "A value is trying to be set on a copy of a slice from a DataFrame.\n",
      "Try using .loc[row_indexer,col_indexer] = value instead\n",
      "\n",
      "See the caveats in the documentation: https://pandas.pydata.org/pandas-docs/stable/user_guide/indexing.html#returning-a-view-versus-a-copy\n",
      "  df['X_Diff'] = df['X'].diff()\n",
      "/var/folders/vd/hgkjsb1j7gj04s6dypg9lc0c0000gn/T/ipykernel_52417/4279315902.py:8: SettingWithCopyWarning: \n",
      "A value is trying to be set on a copy of a slice from a DataFrame.\n",
      "Try using .loc[row_indexer,col_indexer] = value instead\n",
      "\n",
      "See the caveats in the documentation: https://pandas.pydata.org/pandas-docs/stable/user_guide/indexing.html#returning-a-view-versus-a-copy\n",
      "  df['Z_Diff'] = df['Z'].diff()\n",
      "/var/folders/vd/hgkjsb1j7gj04s6dypg9lc0c0000gn/T/ipykernel_52417/4279315902.py:7: SettingWithCopyWarning: \n",
      "A value is trying to be set on a copy of a slice from a DataFrame.\n",
      "Try using .loc[row_indexer,col_indexer] = value instead\n",
      "\n",
      "See the caveats in the documentation: https://pandas.pydata.org/pandas-docs/stable/user_guide/indexing.html#returning-a-view-versus-a-copy\n",
      "  df['X_Diff'] = df['X'].diff()\n",
      "/var/folders/vd/hgkjsb1j7gj04s6dypg9lc0c0000gn/T/ipykernel_52417/4279315902.py:8: SettingWithCopyWarning: \n",
      "A value is trying to be set on a copy of a slice from a DataFrame.\n",
      "Try using .loc[row_indexer,col_indexer] = value instead\n",
      "\n",
      "See the caveats in the documentation: https://pandas.pydata.org/pandas-docs/stable/user_guide/indexing.html#returning-a-view-versus-a-copy\n",
      "  df['Z_Diff'] = df['Z'].diff()\n",
      "/var/folders/vd/hgkjsb1j7gj04s6dypg9lc0c0000gn/T/ipykernel_52417/4279315902.py:7: SettingWithCopyWarning: \n",
      "A value is trying to be set on a copy of a slice from a DataFrame.\n",
      "Try using .loc[row_indexer,col_indexer] = value instead\n",
      "\n",
      "See the caveats in the documentation: https://pandas.pydata.org/pandas-docs/stable/user_guide/indexing.html#returning-a-view-versus-a-copy\n",
      "  df['X_Diff'] = df['X'].diff()\n",
      "/var/folders/vd/hgkjsb1j7gj04s6dypg9lc0c0000gn/T/ipykernel_52417/4279315902.py:8: SettingWithCopyWarning: \n",
      "A value is trying to be set on a copy of a slice from a DataFrame.\n",
      "Try using .loc[row_indexer,col_indexer] = value instead\n",
      "\n",
      "See the caveats in the documentation: https://pandas.pydata.org/pandas-docs/stable/user_guide/indexing.html#returning-a-view-versus-a-copy\n",
      "  df['Z_Diff'] = df['Z'].diff()\n",
      "/var/folders/vd/hgkjsb1j7gj04s6dypg9lc0c0000gn/T/ipykernel_52417/4279315902.py:7: SettingWithCopyWarning: \n",
      "A value is trying to be set on a copy of a slice from a DataFrame.\n",
      "Try using .loc[row_indexer,col_indexer] = value instead\n",
      "\n",
      "See the caveats in the documentation: https://pandas.pydata.org/pandas-docs/stable/user_guide/indexing.html#returning-a-view-versus-a-copy\n",
      "  df['X_Diff'] = df['X'].diff()\n",
      "/var/folders/vd/hgkjsb1j7gj04s6dypg9lc0c0000gn/T/ipykernel_52417/4279315902.py:8: SettingWithCopyWarning: \n",
      "A value is trying to be set on a copy of a slice from a DataFrame.\n",
      "Try using .loc[row_indexer,col_indexer] = value instead\n",
      "\n",
      "See the caveats in the documentation: https://pandas.pydata.org/pandas-docs/stable/user_guide/indexing.html#returning-a-view-versus-a-copy\n",
      "  df['Z_Diff'] = df['Z'].diff()\n",
      "/var/folders/vd/hgkjsb1j7gj04s6dypg9lc0c0000gn/T/ipykernel_52417/4279315902.py:7: SettingWithCopyWarning: \n",
      "A value is trying to be set on a copy of a slice from a DataFrame.\n",
      "Try using .loc[row_indexer,col_indexer] = value instead\n",
      "\n",
      "See the caveats in the documentation: https://pandas.pydata.org/pandas-docs/stable/user_guide/indexing.html#returning-a-view-versus-a-copy\n",
      "  df['X_Diff'] = df['X'].diff()\n",
      "/var/folders/vd/hgkjsb1j7gj04s6dypg9lc0c0000gn/T/ipykernel_52417/4279315902.py:8: SettingWithCopyWarning: \n",
      "A value is trying to be set on a copy of a slice from a DataFrame.\n",
      "Try using .loc[row_indexer,col_indexer] = value instead\n",
      "\n",
      "See the caveats in the documentation: https://pandas.pydata.org/pandas-docs/stable/user_guide/indexing.html#returning-a-view-versus-a-copy\n",
      "  df['Z_Diff'] = df['Z'].diff()\n",
      "/var/folders/vd/hgkjsb1j7gj04s6dypg9lc0c0000gn/T/ipykernel_52417/4279315902.py:7: SettingWithCopyWarning: \n",
      "A value is trying to be set on a copy of a slice from a DataFrame.\n",
      "Try using .loc[row_indexer,col_indexer] = value instead\n",
      "\n",
      "See the caveats in the documentation: https://pandas.pydata.org/pandas-docs/stable/user_guide/indexing.html#returning-a-view-versus-a-copy\n",
      "  df['X_Diff'] = df['X'].diff()\n",
      "/var/folders/vd/hgkjsb1j7gj04s6dypg9lc0c0000gn/T/ipykernel_52417/4279315902.py:8: SettingWithCopyWarning: \n",
      "A value is trying to be set on a copy of a slice from a DataFrame.\n",
      "Try using .loc[row_indexer,col_indexer] = value instead\n",
      "\n",
      "See the caveats in the documentation: https://pandas.pydata.org/pandas-docs/stable/user_guide/indexing.html#returning-a-view-versus-a-copy\n",
      "  df['Z_Diff'] = df['Z'].diff()\n",
      "/var/folders/vd/hgkjsb1j7gj04s6dypg9lc0c0000gn/T/ipykernel_52417/4279315902.py:7: SettingWithCopyWarning: \n",
      "A value is trying to be set on a copy of a slice from a DataFrame.\n",
      "Try using .loc[row_indexer,col_indexer] = value instead\n",
      "\n",
      "See the caveats in the documentation: https://pandas.pydata.org/pandas-docs/stable/user_guide/indexing.html#returning-a-view-versus-a-copy\n",
      "  df['X_Diff'] = df['X'].diff()\n",
      "/var/folders/vd/hgkjsb1j7gj04s6dypg9lc0c0000gn/T/ipykernel_52417/4279315902.py:8: SettingWithCopyWarning: \n",
      "A value is trying to be set on a copy of a slice from a DataFrame.\n",
      "Try using .loc[row_indexer,col_indexer] = value instead\n",
      "\n",
      "See the caveats in the documentation: https://pandas.pydata.org/pandas-docs/stable/user_guide/indexing.html#returning-a-view-versus-a-copy\n",
      "  df['Z_Diff'] = df['Z'].diff()\n",
      "/var/folders/vd/hgkjsb1j7gj04s6dypg9lc0c0000gn/T/ipykernel_52417/4279315902.py:7: SettingWithCopyWarning: \n",
      "A value is trying to be set on a copy of a slice from a DataFrame.\n",
      "Try using .loc[row_indexer,col_indexer] = value instead\n",
      "\n",
      "See the caveats in the documentation: https://pandas.pydata.org/pandas-docs/stable/user_guide/indexing.html#returning-a-view-versus-a-copy\n",
      "  df['X_Diff'] = df['X'].diff()\n",
      "/var/folders/vd/hgkjsb1j7gj04s6dypg9lc0c0000gn/T/ipykernel_52417/4279315902.py:8: SettingWithCopyWarning: \n",
      "A value is trying to be set on a copy of a slice from a DataFrame.\n",
      "Try using .loc[row_indexer,col_indexer] = value instead\n",
      "\n",
      "See the caveats in the documentation: https://pandas.pydata.org/pandas-docs/stable/user_guide/indexing.html#returning-a-view-versus-a-copy\n",
      "  df['Z_Diff'] = df['Z'].diff()\n",
      "/var/folders/vd/hgkjsb1j7gj04s6dypg9lc0c0000gn/T/ipykernel_52417/4279315902.py:7: SettingWithCopyWarning: \n",
      "A value is trying to be set on a copy of a slice from a DataFrame.\n",
      "Try using .loc[row_indexer,col_indexer] = value instead\n",
      "\n",
      "See the caveats in the documentation: https://pandas.pydata.org/pandas-docs/stable/user_guide/indexing.html#returning-a-view-versus-a-copy\n",
      "  df['X_Diff'] = df['X'].diff()\n",
      "/var/folders/vd/hgkjsb1j7gj04s6dypg9lc0c0000gn/T/ipykernel_52417/4279315902.py:8: SettingWithCopyWarning: \n",
      "A value is trying to be set on a copy of a slice from a DataFrame.\n",
      "Try using .loc[row_indexer,col_indexer] = value instead\n",
      "\n",
      "See the caveats in the documentation: https://pandas.pydata.org/pandas-docs/stable/user_guide/indexing.html#returning-a-view-versus-a-copy\n",
      "  df['Z_Diff'] = df['Z'].diff()\n",
      "/var/folders/vd/hgkjsb1j7gj04s6dypg9lc0c0000gn/T/ipykernel_52417/4279315902.py:7: SettingWithCopyWarning: \n",
      "A value is trying to be set on a copy of a slice from a DataFrame.\n",
      "Try using .loc[row_indexer,col_indexer] = value instead\n",
      "\n",
      "See the caveats in the documentation: https://pandas.pydata.org/pandas-docs/stable/user_guide/indexing.html#returning-a-view-versus-a-copy\n",
      "  df['X_Diff'] = df['X'].diff()\n",
      "/var/folders/vd/hgkjsb1j7gj04s6dypg9lc0c0000gn/T/ipykernel_52417/4279315902.py:8: SettingWithCopyWarning: \n",
      "A value is trying to be set on a copy of a slice from a DataFrame.\n",
      "Try using .loc[row_indexer,col_indexer] = value instead\n",
      "\n",
      "See the caveats in the documentation: https://pandas.pydata.org/pandas-docs/stable/user_guide/indexing.html#returning-a-view-versus-a-copy\n",
      "  df['Z_Diff'] = df['Z'].diff()\n",
      "/var/folders/vd/hgkjsb1j7gj04s6dypg9lc0c0000gn/T/ipykernel_52417/4279315902.py:7: SettingWithCopyWarning: \n",
      "A value is trying to be set on a copy of a slice from a DataFrame.\n",
      "Try using .loc[row_indexer,col_indexer] = value instead\n",
      "\n",
      "See the caveats in the documentation: https://pandas.pydata.org/pandas-docs/stable/user_guide/indexing.html#returning-a-view-versus-a-copy\n",
      "  df['X_Diff'] = df['X'].diff()\n",
      "/var/folders/vd/hgkjsb1j7gj04s6dypg9lc0c0000gn/T/ipykernel_52417/4279315902.py:8: SettingWithCopyWarning: \n",
      "A value is trying to be set on a copy of a slice from a DataFrame.\n",
      "Try using .loc[row_indexer,col_indexer] = value instead\n",
      "\n",
      "See the caveats in the documentation: https://pandas.pydata.org/pandas-docs/stable/user_guide/indexing.html#returning-a-view-versus-a-copy\n",
      "  df['Z_Diff'] = df['Z'].diff()\n",
      "/var/folders/vd/hgkjsb1j7gj04s6dypg9lc0c0000gn/T/ipykernel_52417/4279315902.py:7: SettingWithCopyWarning: \n",
      "A value is trying to be set on a copy of a slice from a DataFrame.\n",
      "Try using .loc[row_indexer,col_indexer] = value instead\n",
      "\n",
      "See the caveats in the documentation: https://pandas.pydata.org/pandas-docs/stable/user_guide/indexing.html#returning-a-view-versus-a-copy\n",
      "  df['X_Diff'] = df['X'].diff()\n",
      "/var/folders/vd/hgkjsb1j7gj04s6dypg9lc0c0000gn/T/ipykernel_52417/4279315902.py:8: SettingWithCopyWarning: \n",
      "A value is trying to be set on a copy of a slice from a DataFrame.\n",
      "Try using .loc[row_indexer,col_indexer] = value instead\n",
      "\n",
      "See the caveats in the documentation: https://pandas.pydata.org/pandas-docs/stable/user_guide/indexing.html#returning-a-view-versus-a-copy\n",
      "  df['Z_Diff'] = df['Z'].diff()\n",
      "/var/folders/vd/hgkjsb1j7gj04s6dypg9lc0c0000gn/T/ipykernel_52417/4279315902.py:7: SettingWithCopyWarning: \n",
      "A value is trying to be set on a copy of a slice from a DataFrame.\n",
      "Try using .loc[row_indexer,col_indexer] = value instead\n",
      "\n",
      "See the caveats in the documentation: https://pandas.pydata.org/pandas-docs/stable/user_guide/indexing.html#returning-a-view-versus-a-copy\n",
      "  df['X_Diff'] = df['X'].diff()\n",
      "/var/folders/vd/hgkjsb1j7gj04s6dypg9lc0c0000gn/T/ipykernel_52417/4279315902.py:8: SettingWithCopyWarning: \n",
      "A value is trying to be set on a copy of a slice from a DataFrame.\n",
      "Try using .loc[row_indexer,col_indexer] = value instead\n",
      "\n",
      "See the caveats in the documentation: https://pandas.pydata.org/pandas-docs/stable/user_guide/indexing.html#returning-a-view-versus-a-copy\n",
      "  df['Z_Diff'] = df['Z'].diff()\n",
      "/var/folders/vd/hgkjsb1j7gj04s6dypg9lc0c0000gn/T/ipykernel_52417/4279315902.py:7: SettingWithCopyWarning: \n",
      "A value is trying to be set on a copy of a slice from a DataFrame.\n",
      "Try using .loc[row_indexer,col_indexer] = value instead\n",
      "\n",
      "See the caveats in the documentation: https://pandas.pydata.org/pandas-docs/stable/user_guide/indexing.html#returning-a-view-versus-a-copy\n",
      "  df['X_Diff'] = df['X'].diff()\n",
      "/var/folders/vd/hgkjsb1j7gj04s6dypg9lc0c0000gn/T/ipykernel_52417/4279315902.py:8: SettingWithCopyWarning: \n",
      "A value is trying to be set on a copy of a slice from a DataFrame.\n",
      "Try using .loc[row_indexer,col_indexer] = value instead\n",
      "\n",
      "See the caveats in the documentation: https://pandas.pydata.org/pandas-docs/stable/user_guide/indexing.html#returning-a-view-versus-a-copy\n",
      "  df['Z_Diff'] = df['Z'].diff()\n",
      "/var/folders/vd/hgkjsb1j7gj04s6dypg9lc0c0000gn/T/ipykernel_52417/4279315902.py:7: SettingWithCopyWarning: \n",
      "A value is trying to be set on a copy of a slice from a DataFrame.\n",
      "Try using .loc[row_indexer,col_indexer] = value instead\n",
      "\n",
      "See the caveats in the documentation: https://pandas.pydata.org/pandas-docs/stable/user_guide/indexing.html#returning-a-view-versus-a-copy\n",
      "  df['X_Diff'] = df['X'].diff()\n",
      "/var/folders/vd/hgkjsb1j7gj04s6dypg9lc0c0000gn/T/ipykernel_52417/4279315902.py:8: SettingWithCopyWarning: \n",
      "A value is trying to be set on a copy of a slice from a DataFrame.\n",
      "Try using .loc[row_indexer,col_indexer] = value instead\n",
      "\n",
      "See the caveats in the documentation: https://pandas.pydata.org/pandas-docs/stable/user_guide/indexing.html#returning-a-view-versus-a-copy\n",
      "  df['Z_Diff'] = df['Z'].diff()\n",
      "/var/folders/vd/hgkjsb1j7gj04s6dypg9lc0c0000gn/T/ipykernel_52417/4279315902.py:7: SettingWithCopyWarning: \n",
      "A value is trying to be set on a copy of a slice from a DataFrame.\n",
      "Try using .loc[row_indexer,col_indexer] = value instead\n",
      "\n",
      "See the caveats in the documentation: https://pandas.pydata.org/pandas-docs/stable/user_guide/indexing.html#returning-a-view-versus-a-copy\n",
      "  df['X_Diff'] = df['X'].diff()\n",
      "/var/folders/vd/hgkjsb1j7gj04s6dypg9lc0c0000gn/T/ipykernel_52417/4279315902.py:8: SettingWithCopyWarning: \n",
      "A value is trying to be set on a copy of a slice from a DataFrame.\n",
      "Try using .loc[row_indexer,col_indexer] = value instead\n",
      "\n",
      "See the caveats in the documentation: https://pandas.pydata.org/pandas-docs/stable/user_guide/indexing.html#returning-a-view-versus-a-copy\n",
      "  df['Z_Diff'] = df['Z'].diff()\n",
      "/var/folders/vd/hgkjsb1j7gj04s6dypg9lc0c0000gn/T/ipykernel_52417/4279315902.py:7: SettingWithCopyWarning: \n",
      "A value is trying to be set on a copy of a slice from a DataFrame.\n",
      "Try using .loc[row_indexer,col_indexer] = value instead\n",
      "\n",
      "See the caveats in the documentation: https://pandas.pydata.org/pandas-docs/stable/user_guide/indexing.html#returning-a-view-versus-a-copy\n",
      "  df['X_Diff'] = df['X'].diff()\n",
      "/var/folders/vd/hgkjsb1j7gj04s6dypg9lc0c0000gn/T/ipykernel_52417/4279315902.py:8: SettingWithCopyWarning: \n",
      "A value is trying to be set on a copy of a slice from a DataFrame.\n",
      "Try using .loc[row_indexer,col_indexer] = value instead\n",
      "\n",
      "See the caveats in the documentation: https://pandas.pydata.org/pandas-docs/stable/user_guide/indexing.html#returning-a-view-versus-a-copy\n",
      "  df['Z_Diff'] = df['Z'].diff()\n",
      "/var/folders/vd/hgkjsb1j7gj04s6dypg9lc0c0000gn/T/ipykernel_52417/4279315902.py:7: SettingWithCopyWarning: \n",
      "A value is trying to be set on a copy of a slice from a DataFrame.\n",
      "Try using .loc[row_indexer,col_indexer] = value instead\n",
      "\n",
      "See the caveats in the documentation: https://pandas.pydata.org/pandas-docs/stable/user_guide/indexing.html#returning-a-view-versus-a-copy\n",
      "  df['X_Diff'] = df['X'].diff()\n",
      "/var/folders/vd/hgkjsb1j7gj04s6dypg9lc0c0000gn/T/ipykernel_52417/4279315902.py:8: SettingWithCopyWarning: \n",
      "A value is trying to be set on a copy of a slice from a DataFrame.\n",
      "Try using .loc[row_indexer,col_indexer] = value instead\n",
      "\n",
      "See the caveats in the documentation: https://pandas.pydata.org/pandas-docs/stable/user_guide/indexing.html#returning-a-view-versus-a-copy\n",
      "  df['Z_Diff'] = df['Z'].diff()\n",
      "/var/folders/vd/hgkjsb1j7gj04s6dypg9lc0c0000gn/T/ipykernel_52417/4279315902.py:7: SettingWithCopyWarning: \n",
      "A value is trying to be set on a copy of a slice from a DataFrame.\n",
      "Try using .loc[row_indexer,col_indexer] = value instead\n",
      "\n",
      "See the caveats in the documentation: https://pandas.pydata.org/pandas-docs/stable/user_guide/indexing.html#returning-a-view-versus-a-copy\n",
      "  df['X_Diff'] = df['X'].diff()\n",
      "/var/folders/vd/hgkjsb1j7gj04s6dypg9lc0c0000gn/T/ipykernel_52417/4279315902.py:8: SettingWithCopyWarning: \n",
      "A value is trying to be set on a copy of a slice from a DataFrame.\n",
      "Try using .loc[row_indexer,col_indexer] = value instead\n",
      "\n",
      "See the caveats in the documentation: https://pandas.pydata.org/pandas-docs/stable/user_guide/indexing.html#returning-a-view-versus-a-copy\n",
      "  df['Z_Diff'] = df['Z'].diff()\n",
      "/var/folders/vd/hgkjsb1j7gj04s6dypg9lc0c0000gn/T/ipykernel_52417/4279315902.py:7: SettingWithCopyWarning: \n",
      "A value is trying to be set on a copy of a slice from a DataFrame.\n",
      "Try using .loc[row_indexer,col_indexer] = value instead\n",
      "\n",
      "See the caveats in the documentation: https://pandas.pydata.org/pandas-docs/stable/user_guide/indexing.html#returning-a-view-versus-a-copy\n",
      "  df['X_Diff'] = df['X'].diff()\n",
      "/var/folders/vd/hgkjsb1j7gj04s6dypg9lc0c0000gn/T/ipykernel_52417/4279315902.py:8: SettingWithCopyWarning: \n",
      "A value is trying to be set on a copy of a slice from a DataFrame.\n",
      "Try using .loc[row_indexer,col_indexer] = value instead\n",
      "\n",
      "See the caveats in the documentation: https://pandas.pydata.org/pandas-docs/stable/user_guide/indexing.html#returning-a-view-versus-a-copy\n",
      "  df['Z_Diff'] = df['Z'].diff()\n",
      "/var/folders/vd/hgkjsb1j7gj04s6dypg9lc0c0000gn/T/ipykernel_52417/4279315902.py:7: SettingWithCopyWarning: \n",
      "A value is trying to be set on a copy of a slice from a DataFrame.\n",
      "Try using .loc[row_indexer,col_indexer] = value instead\n",
      "\n",
      "See the caveats in the documentation: https://pandas.pydata.org/pandas-docs/stable/user_guide/indexing.html#returning-a-view-versus-a-copy\n",
      "  df['X_Diff'] = df['X'].diff()\n",
      "/var/folders/vd/hgkjsb1j7gj04s6dypg9lc0c0000gn/T/ipykernel_52417/4279315902.py:8: SettingWithCopyWarning: \n",
      "A value is trying to be set on a copy of a slice from a DataFrame.\n",
      "Try using .loc[row_indexer,col_indexer] = value instead\n",
      "\n",
      "See the caveats in the documentation: https://pandas.pydata.org/pandas-docs/stable/user_guide/indexing.html#returning-a-view-versus-a-copy\n",
      "  df['Z_Diff'] = df['Z'].diff()\n",
      "/var/folders/vd/hgkjsb1j7gj04s6dypg9lc0c0000gn/T/ipykernel_52417/4279315902.py:7: SettingWithCopyWarning: \n",
      "A value is trying to be set on a copy of a slice from a DataFrame.\n",
      "Try using .loc[row_indexer,col_indexer] = value instead\n",
      "\n",
      "See the caveats in the documentation: https://pandas.pydata.org/pandas-docs/stable/user_guide/indexing.html#returning-a-view-versus-a-copy\n",
      "  df['X_Diff'] = df['X'].diff()\n",
      "/var/folders/vd/hgkjsb1j7gj04s6dypg9lc0c0000gn/T/ipykernel_52417/4279315902.py:8: SettingWithCopyWarning: \n",
      "A value is trying to be set on a copy of a slice from a DataFrame.\n",
      "Try using .loc[row_indexer,col_indexer] = value instead\n",
      "\n",
      "See the caveats in the documentation: https://pandas.pydata.org/pandas-docs/stable/user_guide/indexing.html#returning-a-view-versus-a-copy\n",
      "  df['Z_Diff'] = df['Z'].diff()\n",
      "/var/folders/vd/hgkjsb1j7gj04s6dypg9lc0c0000gn/T/ipykernel_52417/4279315902.py:7: SettingWithCopyWarning: \n",
      "A value is trying to be set on a copy of a slice from a DataFrame.\n",
      "Try using .loc[row_indexer,col_indexer] = value instead\n",
      "\n",
      "See the caveats in the documentation: https://pandas.pydata.org/pandas-docs/stable/user_guide/indexing.html#returning-a-view-versus-a-copy\n",
      "  df['X_Diff'] = df['X'].diff()\n",
      "/var/folders/vd/hgkjsb1j7gj04s6dypg9lc0c0000gn/T/ipykernel_52417/4279315902.py:8: SettingWithCopyWarning: \n",
      "A value is trying to be set on a copy of a slice from a DataFrame.\n",
      "Try using .loc[row_indexer,col_indexer] = value instead\n",
      "\n",
      "See the caveats in the documentation: https://pandas.pydata.org/pandas-docs/stable/user_guide/indexing.html#returning-a-view-versus-a-copy\n",
      "  df['Z_Diff'] = df['Z'].diff()\n",
      "/var/folders/vd/hgkjsb1j7gj04s6dypg9lc0c0000gn/T/ipykernel_52417/4279315902.py:7: SettingWithCopyWarning: \n",
      "A value is trying to be set on a copy of a slice from a DataFrame.\n",
      "Try using .loc[row_indexer,col_indexer] = value instead\n",
      "\n",
      "See the caveats in the documentation: https://pandas.pydata.org/pandas-docs/stable/user_guide/indexing.html#returning-a-view-versus-a-copy\n",
      "  df['X_Diff'] = df['X'].diff()\n",
      "/var/folders/vd/hgkjsb1j7gj04s6dypg9lc0c0000gn/T/ipykernel_52417/4279315902.py:8: SettingWithCopyWarning: \n",
      "A value is trying to be set on a copy of a slice from a DataFrame.\n",
      "Try using .loc[row_indexer,col_indexer] = value instead\n",
      "\n",
      "See the caveats in the documentation: https://pandas.pydata.org/pandas-docs/stable/user_guide/indexing.html#returning-a-view-versus-a-copy\n",
      "  df['Z_Diff'] = df['Z'].diff()\n",
      "/var/folders/vd/hgkjsb1j7gj04s6dypg9lc0c0000gn/T/ipykernel_52417/4279315902.py:7: SettingWithCopyWarning: \n",
      "A value is trying to be set on a copy of a slice from a DataFrame.\n",
      "Try using .loc[row_indexer,col_indexer] = value instead\n",
      "\n",
      "See the caveats in the documentation: https://pandas.pydata.org/pandas-docs/stable/user_guide/indexing.html#returning-a-view-versus-a-copy\n",
      "  df['X_Diff'] = df['X'].diff()\n",
      "/var/folders/vd/hgkjsb1j7gj04s6dypg9lc0c0000gn/T/ipykernel_52417/4279315902.py:8: SettingWithCopyWarning: \n",
      "A value is trying to be set on a copy of a slice from a DataFrame.\n",
      "Try using .loc[row_indexer,col_indexer] = value instead\n",
      "\n",
      "See the caveats in the documentation: https://pandas.pydata.org/pandas-docs/stable/user_guide/indexing.html#returning-a-view-versus-a-copy\n",
      "  df['Z_Diff'] = df['Z'].diff()\n",
      "/var/folders/vd/hgkjsb1j7gj04s6dypg9lc0c0000gn/T/ipykernel_52417/4279315902.py:7: SettingWithCopyWarning: \n",
      "A value is trying to be set on a copy of a slice from a DataFrame.\n",
      "Try using .loc[row_indexer,col_indexer] = value instead\n",
      "\n",
      "See the caveats in the documentation: https://pandas.pydata.org/pandas-docs/stable/user_guide/indexing.html#returning-a-view-versus-a-copy\n",
      "  df['X_Diff'] = df['X'].diff()\n",
      "/var/folders/vd/hgkjsb1j7gj04s6dypg9lc0c0000gn/T/ipykernel_52417/4279315902.py:8: SettingWithCopyWarning: \n",
      "A value is trying to be set on a copy of a slice from a DataFrame.\n",
      "Try using .loc[row_indexer,col_indexer] = value instead\n",
      "\n",
      "See the caveats in the documentation: https://pandas.pydata.org/pandas-docs/stable/user_guide/indexing.html#returning-a-view-versus-a-copy\n",
      "  df['Z_Diff'] = df['Z'].diff()\n",
      "/var/folders/vd/hgkjsb1j7gj04s6dypg9lc0c0000gn/T/ipykernel_52417/4279315902.py:7: SettingWithCopyWarning: \n",
      "A value is trying to be set on a copy of a slice from a DataFrame.\n",
      "Try using .loc[row_indexer,col_indexer] = value instead\n",
      "\n",
      "See the caveats in the documentation: https://pandas.pydata.org/pandas-docs/stable/user_guide/indexing.html#returning-a-view-versus-a-copy\n",
      "  df['X_Diff'] = df['X'].diff()\n",
      "/var/folders/vd/hgkjsb1j7gj04s6dypg9lc0c0000gn/T/ipykernel_52417/4279315902.py:8: SettingWithCopyWarning: \n",
      "A value is trying to be set on a copy of a slice from a DataFrame.\n",
      "Try using .loc[row_indexer,col_indexer] = value instead\n",
      "\n",
      "See the caveats in the documentation: https://pandas.pydata.org/pandas-docs/stable/user_guide/indexing.html#returning-a-view-versus-a-copy\n",
      "  df['Z_Diff'] = df['Z'].diff()\n",
      "/var/folders/vd/hgkjsb1j7gj04s6dypg9lc0c0000gn/T/ipykernel_52417/4279315902.py:7: SettingWithCopyWarning: \n",
      "A value is trying to be set on a copy of a slice from a DataFrame.\n",
      "Try using .loc[row_indexer,col_indexer] = value instead\n",
      "\n",
      "See the caveats in the documentation: https://pandas.pydata.org/pandas-docs/stable/user_guide/indexing.html#returning-a-view-versus-a-copy\n",
      "  df['X_Diff'] = df['X'].diff()\n",
      "/var/folders/vd/hgkjsb1j7gj04s6dypg9lc0c0000gn/T/ipykernel_52417/4279315902.py:8: SettingWithCopyWarning: \n",
      "A value is trying to be set on a copy of a slice from a DataFrame.\n",
      "Try using .loc[row_indexer,col_indexer] = value instead\n",
      "\n",
      "See the caveats in the documentation: https://pandas.pydata.org/pandas-docs/stable/user_guide/indexing.html#returning-a-view-versus-a-copy\n",
      "  df['Z_Diff'] = df['Z'].diff()\n",
      "/var/folders/vd/hgkjsb1j7gj04s6dypg9lc0c0000gn/T/ipykernel_52417/4279315902.py:7: SettingWithCopyWarning: \n",
      "A value is trying to be set on a copy of a slice from a DataFrame.\n",
      "Try using .loc[row_indexer,col_indexer] = value instead\n",
      "\n",
      "See the caveats in the documentation: https://pandas.pydata.org/pandas-docs/stable/user_guide/indexing.html#returning-a-view-versus-a-copy\n",
      "  df['X_Diff'] = df['X'].diff()\n",
      "/var/folders/vd/hgkjsb1j7gj04s6dypg9lc0c0000gn/T/ipykernel_52417/4279315902.py:8: SettingWithCopyWarning: \n",
      "A value is trying to be set on a copy of a slice from a DataFrame.\n",
      "Try using .loc[row_indexer,col_indexer] = value instead\n",
      "\n",
      "See the caveats in the documentation: https://pandas.pydata.org/pandas-docs/stable/user_guide/indexing.html#returning-a-view-versus-a-copy\n",
      "  df['Z_Diff'] = df['Z'].diff()\n",
      "/var/folders/vd/hgkjsb1j7gj04s6dypg9lc0c0000gn/T/ipykernel_52417/4279315902.py:7: SettingWithCopyWarning: \n",
      "A value is trying to be set on a copy of a slice from a DataFrame.\n",
      "Try using .loc[row_indexer,col_indexer] = value instead\n",
      "\n",
      "See the caveats in the documentation: https://pandas.pydata.org/pandas-docs/stable/user_guide/indexing.html#returning-a-view-versus-a-copy\n",
      "  df['X_Diff'] = df['X'].diff()\n",
      "/var/folders/vd/hgkjsb1j7gj04s6dypg9lc0c0000gn/T/ipykernel_52417/4279315902.py:8: SettingWithCopyWarning: \n",
      "A value is trying to be set on a copy of a slice from a DataFrame.\n",
      "Try using .loc[row_indexer,col_indexer] = value instead\n",
      "\n",
      "See the caveats in the documentation: https://pandas.pydata.org/pandas-docs/stable/user_guide/indexing.html#returning-a-view-versus-a-copy\n",
      "  df['Z_Diff'] = df['Z'].diff()\n",
      "/var/folders/vd/hgkjsb1j7gj04s6dypg9lc0c0000gn/T/ipykernel_52417/4279315902.py:7: SettingWithCopyWarning: \n",
      "A value is trying to be set on a copy of a slice from a DataFrame.\n",
      "Try using .loc[row_indexer,col_indexer] = value instead\n",
      "\n",
      "See the caveats in the documentation: https://pandas.pydata.org/pandas-docs/stable/user_guide/indexing.html#returning-a-view-versus-a-copy\n",
      "  df['X_Diff'] = df['X'].diff()\n",
      "/var/folders/vd/hgkjsb1j7gj04s6dypg9lc0c0000gn/T/ipykernel_52417/4279315902.py:8: SettingWithCopyWarning: \n",
      "A value is trying to be set on a copy of a slice from a DataFrame.\n",
      "Try using .loc[row_indexer,col_indexer] = value instead\n",
      "\n",
      "See the caveats in the documentation: https://pandas.pydata.org/pandas-docs/stable/user_guide/indexing.html#returning-a-view-versus-a-copy\n",
      "  df['Z_Diff'] = df['Z'].diff()\n",
      "/var/folders/vd/hgkjsb1j7gj04s6dypg9lc0c0000gn/T/ipykernel_52417/4279315902.py:7: SettingWithCopyWarning: \n",
      "A value is trying to be set on a copy of a slice from a DataFrame.\n",
      "Try using .loc[row_indexer,col_indexer] = value instead\n",
      "\n",
      "See the caveats in the documentation: https://pandas.pydata.org/pandas-docs/stable/user_guide/indexing.html#returning-a-view-versus-a-copy\n",
      "  df['X_Diff'] = df['X'].diff()\n",
      "/var/folders/vd/hgkjsb1j7gj04s6dypg9lc0c0000gn/T/ipykernel_52417/4279315902.py:8: SettingWithCopyWarning: \n",
      "A value is trying to be set on a copy of a slice from a DataFrame.\n",
      "Try using .loc[row_indexer,col_indexer] = value instead\n",
      "\n",
      "See the caveats in the documentation: https://pandas.pydata.org/pandas-docs/stable/user_guide/indexing.html#returning-a-view-versus-a-copy\n",
      "  df['Z_Diff'] = df['Z'].diff()\n",
      "/var/folders/vd/hgkjsb1j7gj04s6dypg9lc0c0000gn/T/ipykernel_52417/4279315902.py:7: SettingWithCopyWarning: \n",
      "A value is trying to be set on a copy of a slice from a DataFrame.\n",
      "Try using .loc[row_indexer,col_indexer] = value instead\n",
      "\n",
      "See the caveats in the documentation: https://pandas.pydata.org/pandas-docs/stable/user_guide/indexing.html#returning-a-view-versus-a-copy\n",
      "  df['X_Diff'] = df['X'].diff()\n",
      "/var/folders/vd/hgkjsb1j7gj04s6dypg9lc0c0000gn/T/ipykernel_52417/4279315902.py:8: SettingWithCopyWarning: \n",
      "A value is trying to be set on a copy of a slice from a DataFrame.\n",
      "Try using .loc[row_indexer,col_indexer] = value instead\n",
      "\n",
      "See the caveats in the documentation: https://pandas.pydata.org/pandas-docs/stable/user_guide/indexing.html#returning-a-view-versus-a-copy\n",
      "  df['Z_Diff'] = df['Z'].diff()\n",
      "/var/folders/vd/hgkjsb1j7gj04s6dypg9lc0c0000gn/T/ipykernel_52417/4279315902.py:7: SettingWithCopyWarning: \n",
      "A value is trying to be set on a copy of a slice from a DataFrame.\n",
      "Try using .loc[row_indexer,col_indexer] = value instead\n",
      "\n",
      "See the caveats in the documentation: https://pandas.pydata.org/pandas-docs/stable/user_guide/indexing.html#returning-a-view-versus-a-copy\n",
      "  df['X_Diff'] = df['X'].diff()\n",
      "/var/folders/vd/hgkjsb1j7gj04s6dypg9lc0c0000gn/T/ipykernel_52417/4279315902.py:8: SettingWithCopyWarning: \n",
      "A value is trying to be set on a copy of a slice from a DataFrame.\n",
      "Try using .loc[row_indexer,col_indexer] = value instead\n",
      "\n",
      "See the caveats in the documentation: https://pandas.pydata.org/pandas-docs/stable/user_guide/indexing.html#returning-a-view-versus-a-copy\n",
      "  df['Z_Diff'] = df['Z'].diff()\n",
      "/var/folders/vd/hgkjsb1j7gj04s6dypg9lc0c0000gn/T/ipykernel_52417/4279315902.py:7: SettingWithCopyWarning: \n",
      "A value is trying to be set on a copy of a slice from a DataFrame.\n",
      "Try using .loc[row_indexer,col_indexer] = value instead\n",
      "\n",
      "See the caveats in the documentation: https://pandas.pydata.org/pandas-docs/stable/user_guide/indexing.html#returning-a-view-versus-a-copy\n",
      "  df['X_Diff'] = df['X'].diff()\n",
      "/var/folders/vd/hgkjsb1j7gj04s6dypg9lc0c0000gn/T/ipykernel_52417/4279315902.py:8: SettingWithCopyWarning: \n",
      "A value is trying to be set on a copy of a slice from a DataFrame.\n",
      "Try using .loc[row_indexer,col_indexer] = value instead\n",
      "\n",
      "See the caveats in the documentation: https://pandas.pydata.org/pandas-docs/stable/user_guide/indexing.html#returning-a-view-versus-a-copy\n",
      "  df['Z_Diff'] = df['Z'].diff()\n",
      "/var/folders/vd/hgkjsb1j7gj04s6dypg9lc0c0000gn/T/ipykernel_52417/4279315902.py:7: SettingWithCopyWarning: \n",
      "A value is trying to be set on a copy of a slice from a DataFrame.\n",
      "Try using .loc[row_indexer,col_indexer] = value instead\n",
      "\n",
      "See the caveats in the documentation: https://pandas.pydata.org/pandas-docs/stable/user_guide/indexing.html#returning-a-view-versus-a-copy\n",
      "  df['X_Diff'] = df['X'].diff()\n",
      "/var/folders/vd/hgkjsb1j7gj04s6dypg9lc0c0000gn/T/ipykernel_52417/4279315902.py:8: SettingWithCopyWarning: \n",
      "A value is trying to be set on a copy of a slice from a DataFrame.\n",
      "Try using .loc[row_indexer,col_indexer] = value instead\n",
      "\n",
      "See the caveats in the documentation: https://pandas.pydata.org/pandas-docs/stable/user_guide/indexing.html#returning-a-view-versus-a-copy\n",
      "  df['Z_Diff'] = df['Z'].diff()\n",
      "/var/folders/vd/hgkjsb1j7gj04s6dypg9lc0c0000gn/T/ipykernel_52417/4279315902.py:7: SettingWithCopyWarning: \n",
      "A value is trying to be set on a copy of a slice from a DataFrame.\n",
      "Try using .loc[row_indexer,col_indexer] = value instead\n",
      "\n",
      "See the caveats in the documentation: https://pandas.pydata.org/pandas-docs/stable/user_guide/indexing.html#returning-a-view-versus-a-copy\n",
      "  df['X_Diff'] = df['X'].diff()\n",
      "/var/folders/vd/hgkjsb1j7gj04s6dypg9lc0c0000gn/T/ipykernel_52417/4279315902.py:8: SettingWithCopyWarning: \n",
      "A value is trying to be set on a copy of a slice from a DataFrame.\n",
      "Try using .loc[row_indexer,col_indexer] = value instead\n",
      "\n",
      "See the caveats in the documentation: https://pandas.pydata.org/pandas-docs/stable/user_guide/indexing.html#returning-a-view-versus-a-copy\n",
      "  df['Z_Diff'] = df['Z'].diff()\n",
      "/var/folders/vd/hgkjsb1j7gj04s6dypg9lc0c0000gn/T/ipykernel_52417/4279315902.py:7: SettingWithCopyWarning: \n",
      "A value is trying to be set on a copy of a slice from a DataFrame.\n",
      "Try using .loc[row_indexer,col_indexer] = value instead\n",
      "\n",
      "See the caveats in the documentation: https://pandas.pydata.org/pandas-docs/stable/user_guide/indexing.html#returning-a-view-versus-a-copy\n",
      "  df['X_Diff'] = df['X'].diff()\n",
      "/var/folders/vd/hgkjsb1j7gj04s6dypg9lc0c0000gn/T/ipykernel_52417/4279315902.py:8: SettingWithCopyWarning: \n",
      "A value is trying to be set on a copy of a slice from a DataFrame.\n",
      "Try using .loc[row_indexer,col_indexer] = value instead\n",
      "\n",
      "See the caveats in the documentation: https://pandas.pydata.org/pandas-docs/stable/user_guide/indexing.html#returning-a-view-versus-a-copy\n",
      "  df['Z_Diff'] = df['Z'].diff()\n",
      "/var/folders/vd/hgkjsb1j7gj04s6dypg9lc0c0000gn/T/ipykernel_52417/4279315902.py:7: SettingWithCopyWarning: \n",
      "A value is trying to be set on a copy of a slice from a DataFrame.\n",
      "Try using .loc[row_indexer,col_indexer] = value instead\n",
      "\n",
      "See the caveats in the documentation: https://pandas.pydata.org/pandas-docs/stable/user_guide/indexing.html#returning-a-view-versus-a-copy\n",
      "  df['X_Diff'] = df['X'].diff()\n",
      "/var/folders/vd/hgkjsb1j7gj04s6dypg9lc0c0000gn/T/ipykernel_52417/4279315902.py:8: SettingWithCopyWarning: \n",
      "A value is trying to be set on a copy of a slice from a DataFrame.\n",
      "Try using .loc[row_indexer,col_indexer] = value instead\n",
      "\n",
      "See the caveats in the documentation: https://pandas.pydata.org/pandas-docs/stable/user_guide/indexing.html#returning-a-view-versus-a-copy\n",
      "  df['Z_Diff'] = df['Z'].diff()\n",
      "/var/folders/vd/hgkjsb1j7gj04s6dypg9lc0c0000gn/T/ipykernel_52417/4279315902.py:7: SettingWithCopyWarning: \n",
      "A value is trying to be set on a copy of a slice from a DataFrame.\n",
      "Try using .loc[row_indexer,col_indexer] = value instead\n",
      "\n",
      "See the caveats in the documentation: https://pandas.pydata.org/pandas-docs/stable/user_guide/indexing.html#returning-a-view-versus-a-copy\n",
      "  df['X_Diff'] = df['X'].diff()\n",
      "/var/folders/vd/hgkjsb1j7gj04s6dypg9lc0c0000gn/T/ipykernel_52417/4279315902.py:8: SettingWithCopyWarning: \n",
      "A value is trying to be set on a copy of a slice from a DataFrame.\n",
      "Try using .loc[row_indexer,col_indexer] = value instead\n",
      "\n",
      "See the caveats in the documentation: https://pandas.pydata.org/pandas-docs/stable/user_guide/indexing.html#returning-a-view-versus-a-copy\n",
      "  df['Z_Diff'] = df['Z'].diff()\n",
      "/var/folders/vd/hgkjsb1j7gj04s6dypg9lc0c0000gn/T/ipykernel_52417/4279315902.py:7: SettingWithCopyWarning: \n",
      "A value is trying to be set on a copy of a slice from a DataFrame.\n",
      "Try using .loc[row_indexer,col_indexer] = value instead\n",
      "\n",
      "See the caveats in the documentation: https://pandas.pydata.org/pandas-docs/stable/user_guide/indexing.html#returning-a-view-versus-a-copy\n",
      "  df['X_Diff'] = df['X'].diff()\n",
      "/var/folders/vd/hgkjsb1j7gj04s6dypg9lc0c0000gn/T/ipykernel_52417/4279315902.py:8: SettingWithCopyWarning: \n",
      "A value is trying to be set on a copy of a slice from a DataFrame.\n",
      "Try using .loc[row_indexer,col_indexer] = value instead\n",
      "\n",
      "See the caveats in the documentation: https://pandas.pydata.org/pandas-docs/stable/user_guide/indexing.html#returning-a-view-versus-a-copy\n",
      "  df['Z_Diff'] = df['Z'].diff()\n",
      "/var/folders/vd/hgkjsb1j7gj04s6dypg9lc0c0000gn/T/ipykernel_52417/4279315902.py:7: SettingWithCopyWarning: \n",
      "A value is trying to be set on a copy of a slice from a DataFrame.\n",
      "Try using .loc[row_indexer,col_indexer] = value instead\n",
      "\n",
      "See the caveats in the documentation: https://pandas.pydata.org/pandas-docs/stable/user_guide/indexing.html#returning-a-view-versus-a-copy\n",
      "  df['X_Diff'] = df['X'].diff()\n",
      "/var/folders/vd/hgkjsb1j7gj04s6dypg9lc0c0000gn/T/ipykernel_52417/4279315902.py:8: SettingWithCopyWarning: \n",
      "A value is trying to be set on a copy of a slice from a DataFrame.\n",
      "Try using .loc[row_indexer,col_indexer] = value instead\n",
      "\n",
      "See the caveats in the documentation: https://pandas.pydata.org/pandas-docs/stable/user_guide/indexing.html#returning-a-view-versus-a-copy\n",
      "  df['Z_Diff'] = df['Z'].diff()\n",
      "/var/folders/vd/hgkjsb1j7gj04s6dypg9lc0c0000gn/T/ipykernel_52417/4279315902.py:7: SettingWithCopyWarning: \n",
      "A value is trying to be set on a copy of a slice from a DataFrame.\n",
      "Try using .loc[row_indexer,col_indexer] = value instead\n",
      "\n",
      "See the caveats in the documentation: https://pandas.pydata.org/pandas-docs/stable/user_guide/indexing.html#returning-a-view-versus-a-copy\n",
      "  df['X_Diff'] = df['X'].diff()\n",
      "/var/folders/vd/hgkjsb1j7gj04s6dypg9lc0c0000gn/T/ipykernel_52417/4279315902.py:8: SettingWithCopyWarning: \n",
      "A value is trying to be set on a copy of a slice from a DataFrame.\n",
      "Try using .loc[row_indexer,col_indexer] = value instead\n",
      "\n",
      "See the caveats in the documentation: https://pandas.pydata.org/pandas-docs/stable/user_guide/indexing.html#returning-a-view-versus-a-copy\n",
      "  df['Z_Diff'] = df['Z'].diff()\n",
      "/var/folders/vd/hgkjsb1j7gj04s6dypg9lc0c0000gn/T/ipykernel_52417/4279315902.py:7: SettingWithCopyWarning: \n",
      "A value is trying to be set on a copy of a slice from a DataFrame.\n",
      "Try using .loc[row_indexer,col_indexer] = value instead\n",
      "\n",
      "See the caveats in the documentation: https://pandas.pydata.org/pandas-docs/stable/user_guide/indexing.html#returning-a-view-versus-a-copy\n",
      "  df['X_Diff'] = df['X'].diff()\n",
      "/var/folders/vd/hgkjsb1j7gj04s6dypg9lc0c0000gn/T/ipykernel_52417/4279315902.py:8: SettingWithCopyWarning: \n",
      "A value is trying to be set on a copy of a slice from a DataFrame.\n",
      "Try using .loc[row_indexer,col_indexer] = value instead\n",
      "\n",
      "See the caveats in the documentation: https://pandas.pydata.org/pandas-docs/stable/user_guide/indexing.html#returning-a-view-versus-a-copy\n",
      "  df['Z_Diff'] = df['Z'].diff()\n",
      "/var/folders/vd/hgkjsb1j7gj04s6dypg9lc0c0000gn/T/ipykernel_52417/4279315902.py:7: SettingWithCopyWarning: \n",
      "A value is trying to be set on a copy of a slice from a DataFrame.\n",
      "Try using .loc[row_indexer,col_indexer] = value instead\n",
      "\n",
      "See the caveats in the documentation: https://pandas.pydata.org/pandas-docs/stable/user_guide/indexing.html#returning-a-view-versus-a-copy\n",
      "  df['X_Diff'] = df['X'].diff()\n",
      "/var/folders/vd/hgkjsb1j7gj04s6dypg9lc0c0000gn/T/ipykernel_52417/4279315902.py:8: SettingWithCopyWarning: \n",
      "A value is trying to be set on a copy of a slice from a DataFrame.\n",
      "Try using .loc[row_indexer,col_indexer] = value instead\n",
      "\n",
      "See the caveats in the documentation: https://pandas.pydata.org/pandas-docs/stable/user_guide/indexing.html#returning-a-view-versus-a-copy\n",
      "  df['Z_Diff'] = df['Z'].diff()\n",
      "/var/folders/vd/hgkjsb1j7gj04s6dypg9lc0c0000gn/T/ipykernel_52417/4279315902.py:7: SettingWithCopyWarning: \n",
      "A value is trying to be set on a copy of a slice from a DataFrame.\n",
      "Try using .loc[row_indexer,col_indexer] = value instead\n",
      "\n",
      "See the caveats in the documentation: https://pandas.pydata.org/pandas-docs/stable/user_guide/indexing.html#returning-a-view-versus-a-copy\n",
      "  df['X_Diff'] = df['X'].diff()\n",
      "/var/folders/vd/hgkjsb1j7gj04s6dypg9lc0c0000gn/T/ipykernel_52417/4279315902.py:8: SettingWithCopyWarning: \n",
      "A value is trying to be set on a copy of a slice from a DataFrame.\n",
      "Try using .loc[row_indexer,col_indexer] = value instead\n",
      "\n",
      "See the caveats in the documentation: https://pandas.pydata.org/pandas-docs/stable/user_guide/indexing.html#returning-a-view-versus-a-copy\n",
      "  df['Z_Diff'] = df['Z'].diff()\n",
      "/var/folders/vd/hgkjsb1j7gj04s6dypg9lc0c0000gn/T/ipykernel_52417/4279315902.py:7: SettingWithCopyWarning: \n",
      "A value is trying to be set on a copy of a slice from a DataFrame.\n",
      "Try using .loc[row_indexer,col_indexer] = value instead\n",
      "\n",
      "See the caveats in the documentation: https://pandas.pydata.org/pandas-docs/stable/user_guide/indexing.html#returning-a-view-versus-a-copy\n",
      "  df['X_Diff'] = df['X'].diff()\n",
      "/var/folders/vd/hgkjsb1j7gj04s6dypg9lc0c0000gn/T/ipykernel_52417/4279315902.py:8: SettingWithCopyWarning: \n",
      "A value is trying to be set on a copy of a slice from a DataFrame.\n",
      "Try using .loc[row_indexer,col_indexer] = value instead\n",
      "\n",
      "See the caveats in the documentation: https://pandas.pydata.org/pandas-docs/stable/user_guide/indexing.html#returning-a-view-versus-a-copy\n",
      "  df['Z_Diff'] = df['Z'].diff()\n",
      "/var/folders/vd/hgkjsb1j7gj04s6dypg9lc0c0000gn/T/ipykernel_52417/4279315902.py:7: SettingWithCopyWarning: \n",
      "A value is trying to be set on a copy of a slice from a DataFrame.\n",
      "Try using .loc[row_indexer,col_indexer] = value instead\n",
      "\n",
      "See the caveats in the documentation: https://pandas.pydata.org/pandas-docs/stable/user_guide/indexing.html#returning-a-view-versus-a-copy\n",
      "  df['X_Diff'] = df['X'].diff()\n",
      "/var/folders/vd/hgkjsb1j7gj04s6dypg9lc0c0000gn/T/ipykernel_52417/4279315902.py:8: SettingWithCopyWarning: \n",
      "A value is trying to be set on a copy of a slice from a DataFrame.\n",
      "Try using .loc[row_indexer,col_indexer] = value instead\n",
      "\n",
      "See the caveats in the documentation: https://pandas.pydata.org/pandas-docs/stable/user_guide/indexing.html#returning-a-view-versus-a-copy\n",
      "  df['Z_Diff'] = df['Z'].diff()\n",
      "/var/folders/vd/hgkjsb1j7gj04s6dypg9lc0c0000gn/T/ipykernel_52417/4279315902.py:7: SettingWithCopyWarning: \n",
      "A value is trying to be set on a copy of a slice from a DataFrame.\n",
      "Try using .loc[row_indexer,col_indexer] = value instead\n",
      "\n",
      "See the caveats in the documentation: https://pandas.pydata.org/pandas-docs/stable/user_guide/indexing.html#returning-a-view-versus-a-copy\n",
      "  df['X_Diff'] = df['X'].diff()\n",
      "/var/folders/vd/hgkjsb1j7gj04s6dypg9lc0c0000gn/T/ipykernel_52417/4279315902.py:8: SettingWithCopyWarning: \n",
      "A value is trying to be set on a copy of a slice from a DataFrame.\n",
      "Try using .loc[row_indexer,col_indexer] = value instead\n",
      "\n",
      "See the caveats in the documentation: https://pandas.pydata.org/pandas-docs/stable/user_guide/indexing.html#returning-a-view-versus-a-copy\n",
      "  df['Z_Diff'] = df['Z'].diff()\n",
      "/var/folders/vd/hgkjsb1j7gj04s6dypg9lc0c0000gn/T/ipykernel_52417/4279315902.py:7: SettingWithCopyWarning: \n",
      "A value is trying to be set on a copy of a slice from a DataFrame.\n",
      "Try using .loc[row_indexer,col_indexer] = value instead\n",
      "\n",
      "See the caveats in the documentation: https://pandas.pydata.org/pandas-docs/stable/user_guide/indexing.html#returning-a-view-versus-a-copy\n",
      "  df['X_Diff'] = df['X'].diff()\n",
      "/var/folders/vd/hgkjsb1j7gj04s6dypg9lc0c0000gn/T/ipykernel_52417/4279315902.py:8: SettingWithCopyWarning: \n",
      "A value is trying to be set on a copy of a slice from a DataFrame.\n",
      "Try using .loc[row_indexer,col_indexer] = value instead\n",
      "\n",
      "See the caveats in the documentation: https://pandas.pydata.org/pandas-docs/stable/user_guide/indexing.html#returning-a-view-versus-a-copy\n",
      "  df['Z_Diff'] = df['Z'].diff()\n",
      "/var/folders/vd/hgkjsb1j7gj04s6dypg9lc0c0000gn/T/ipykernel_52417/4279315902.py:7: SettingWithCopyWarning: \n",
      "A value is trying to be set on a copy of a slice from a DataFrame.\n",
      "Try using .loc[row_indexer,col_indexer] = value instead\n",
      "\n",
      "See the caveats in the documentation: https://pandas.pydata.org/pandas-docs/stable/user_guide/indexing.html#returning-a-view-versus-a-copy\n",
      "  df['X_Diff'] = df['X'].diff()\n",
      "/var/folders/vd/hgkjsb1j7gj04s6dypg9lc0c0000gn/T/ipykernel_52417/4279315902.py:8: SettingWithCopyWarning: \n",
      "A value is trying to be set on a copy of a slice from a DataFrame.\n",
      "Try using .loc[row_indexer,col_indexer] = value instead\n",
      "\n",
      "See the caveats in the documentation: https://pandas.pydata.org/pandas-docs/stable/user_guide/indexing.html#returning-a-view-versus-a-copy\n",
      "  df['Z_Diff'] = df['Z'].diff()\n",
      "/var/folders/vd/hgkjsb1j7gj04s6dypg9lc0c0000gn/T/ipykernel_52417/4279315902.py:7: SettingWithCopyWarning: \n",
      "A value is trying to be set on a copy of a slice from a DataFrame.\n",
      "Try using .loc[row_indexer,col_indexer] = value instead\n",
      "\n",
      "See the caveats in the documentation: https://pandas.pydata.org/pandas-docs/stable/user_guide/indexing.html#returning-a-view-versus-a-copy\n",
      "  df['X_Diff'] = df['X'].diff()\n",
      "/var/folders/vd/hgkjsb1j7gj04s6dypg9lc0c0000gn/T/ipykernel_52417/4279315902.py:8: SettingWithCopyWarning: \n",
      "A value is trying to be set on a copy of a slice from a DataFrame.\n",
      "Try using .loc[row_indexer,col_indexer] = value instead\n",
      "\n",
      "See the caveats in the documentation: https://pandas.pydata.org/pandas-docs/stable/user_guide/indexing.html#returning-a-view-versus-a-copy\n",
      "  df['Z_Diff'] = df['Z'].diff()\n",
      "/var/folders/vd/hgkjsb1j7gj04s6dypg9lc0c0000gn/T/ipykernel_52417/4279315902.py:7: SettingWithCopyWarning: \n",
      "A value is trying to be set on a copy of a slice from a DataFrame.\n",
      "Try using .loc[row_indexer,col_indexer] = value instead\n",
      "\n",
      "See the caveats in the documentation: https://pandas.pydata.org/pandas-docs/stable/user_guide/indexing.html#returning-a-view-versus-a-copy\n",
      "  df['X_Diff'] = df['X'].diff()\n",
      "/var/folders/vd/hgkjsb1j7gj04s6dypg9lc0c0000gn/T/ipykernel_52417/4279315902.py:8: SettingWithCopyWarning: \n",
      "A value is trying to be set on a copy of a slice from a DataFrame.\n",
      "Try using .loc[row_indexer,col_indexer] = value instead\n",
      "\n",
      "See the caveats in the documentation: https://pandas.pydata.org/pandas-docs/stable/user_guide/indexing.html#returning-a-view-versus-a-copy\n",
      "  df['Z_Diff'] = df['Z'].diff()\n",
      "/var/folders/vd/hgkjsb1j7gj04s6dypg9lc0c0000gn/T/ipykernel_52417/4279315902.py:7: SettingWithCopyWarning: \n",
      "A value is trying to be set on a copy of a slice from a DataFrame.\n",
      "Try using .loc[row_indexer,col_indexer] = value instead\n",
      "\n",
      "See the caveats in the documentation: https://pandas.pydata.org/pandas-docs/stable/user_guide/indexing.html#returning-a-view-versus-a-copy\n",
      "  df['X_Diff'] = df['X'].diff()\n",
      "/var/folders/vd/hgkjsb1j7gj04s6dypg9lc0c0000gn/T/ipykernel_52417/4279315902.py:8: SettingWithCopyWarning: \n",
      "A value is trying to be set on a copy of a slice from a DataFrame.\n",
      "Try using .loc[row_indexer,col_indexer] = value instead\n",
      "\n",
      "See the caveats in the documentation: https://pandas.pydata.org/pandas-docs/stable/user_guide/indexing.html#returning-a-view-versus-a-copy\n",
      "  df['Z_Diff'] = df['Z'].diff()\n",
      "/var/folders/vd/hgkjsb1j7gj04s6dypg9lc0c0000gn/T/ipykernel_52417/4279315902.py:7: SettingWithCopyWarning: \n",
      "A value is trying to be set on a copy of a slice from a DataFrame.\n",
      "Try using .loc[row_indexer,col_indexer] = value instead\n",
      "\n",
      "See the caveats in the documentation: https://pandas.pydata.org/pandas-docs/stable/user_guide/indexing.html#returning-a-view-versus-a-copy\n",
      "  df['X_Diff'] = df['X'].diff()\n",
      "/var/folders/vd/hgkjsb1j7gj04s6dypg9lc0c0000gn/T/ipykernel_52417/4279315902.py:8: SettingWithCopyWarning: \n",
      "A value is trying to be set on a copy of a slice from a DataFrame.\n",
      "Try using .loc[row_indexer,col_indexer] = value instead\n",
      "\n",
      "See the caveats in the documentation: https://pandas.pydata.org/pandas-docs/stable/user_guide/indexing.html#returning-a-view-versus-a-copy\n",
      "  df['Z_Diff'] = df['Z'].diff()\n",
      "/var/folders/vd/hgkjsb1j7gj04s6dypg9lc0c0000gn/T/ipykernel_52417/4279315902.py:7: SettingWithCopyWarning: \n",
      "A value is trying to be set on a copy of a slice from a DataFrame.\n",
      "Try using .loc[row_indexer,col_indexer] = value instead\n",
      "\n",
      "See the caveats in the documentation: https://pandas.pydata.org/pandas-docs/stable/user_guide/indexing.html#returning-a-view-versus-a-copy\n",
      "  df['X_Diff'] = df['X'].diff()\n",
      "/var/folders/vd/hgkjsb1j7gj04s6dypg9lc0c0000gn/T/ipykernel_52417/4279315902.py:8: SettingWithCopyWarning: \n",
      "A value is trying to be set on a copy of a slice from a DataFrame.\n",
      "Try using .loc[row_indexer,col_indexer] = value instead\n",
      "\n",
      "See the caveats in the documentation: https://pandas.pydata.org/pandas-docs/stable/user_guide/indexing.html#returning-a-view-versus-a-copy\n",
      "  df['Z_Diff'] = df['Z'].diff()\n",
      "/var/folders/vd/hgkjsb1j7gj04s6dypg9lc0c0000gn/T/ipykernel_52417/4279315902.py:7: SettingWithCopyWarning: \n",
      "A value is trying to be set on a copy of a slice from a DataFrame.\n",
      "Try using .loc[row_indexer,col_indexer] = value instead\n",
      "\n",
      "See the caveats in the documentation: https://pandas.pydata.org/pandas-docs/stable/user_guide/indexing.html#returning-a-view-versus-a-copy\n",
      "  df['X_Diff'] = df['X'].diff()\n",
      "/var/folders/vd/hgkjsb1j7gj04s6dypg9lc0c0000gn/T/ipykernel_52417/4279315902.py:8: SettingWithCopyWarning: \n",
      "A value is trying to be set on a copy of a slice from a DataFrame.\n",
      "Try using .loc[row_indexer,col_indexer] = value instead\n",
      "\n",
      "See the caveats in the documentation: https://pandas.pydata.org/pandas-docs/stable/user_guide/indexing.html#returning-a-view-versus-a-copy\n",
      "  df['Z_Diff'] = df['Z'].diff()\n",
      "/var/folders/vd/hgkjsb1j7gj04s6dypg9lc0c0000gn/T/ipykernel_52417/4279315902.py:7: SettingWithCopyWarning: \n",
      "A value is trying to be set on a copy of a slice from a DataFrame.\n",
      "Try using .loc[row_indexer,col_indexer] = value instead\n",
      "\n",
      "See the caveats in the documentation: https://pandas.pydata.org/pandas-docs/stable/user_guide/indexing.html#returning-a-view-versus-a-copy\n",
      "  df['X_Diff'] = df['X'].diff()\n",
      "/var/folders/vd/hgkjsb1j7gj04s6dypg9lc0c0000gn/T/ipykernel_52417/4279315902.py:8: SettingWithCopyWarning: \n",
      "A value is trying to be set on a copy of a slice from a DataFrame.\n",
      "Try using .loc[row_indexer,col_indexer] = value instead\n",
      "\n",
      "See the caveats in the documentation: https://pandas.pydata.org/pandas-docs/stable/user_guide/indexing.html#returning-a-view-versus-a-copy\n",
      "  df['Z_Diff'] = df['Z'].diff()\n",
      "/var/folders/vd/hgkjsb1j7gj04s6dypg9lc0c0000gn/T/ipykernel_52417/4279315902.py:7: SettingWithCopyWarning: \n",
      "A value is trying to be set on a copy of a slice from a DataFrame.\n",
      "Try using .loc[row_indexer,col_indexer] = value instead\n",
      "\n",
      "See the caveats in the documentation: https://pandas.pydata.org/pandas-docs/stable/user_guide/indexing.html#returning-a-view-versus-a-copy\n",
      "  df['X_Diff'] = df['X'].diff()\n",
      "/var/folders/vd/hgkjsb1j7gj04s6dypg9lc0c0000gn/T/ipykernel_52417/4279315902.py:8: SettingWithCopyWarning: \n",
      "A value is trying to be set on a copy of a slice from a DataFrame.\n",
      "Try using .loc[row_indexer,col_indexer] = value instead\n",
      "\n",
      "See the caveats in the documentation: https://pandas.pydata.org/pandas-docs/stable/user_guide/indexing.html#returning-a-view-versus-a-copy\n",
      "  df['Z_Diff'] = df['Z'].diff()\n",
      "/var/folders/vd/hgkjsb1j7gj04s6dypg9lc0c0000gn/T/ipykernel_52417/4279315902.py:7: SettingWithCopyWarning: \n",
      "A value is trying to be set on a copy of a slice from a DataFrame.\n",
      "Try using .loc[row_indexer,col_indexer] = value instead\n",
      "\n",
      "See the caveats in the documentation: https://pandas.pydata.org/pandas-docs/stable/user_guide/indexing.html#returning-a-view-versus-a-copy\n",
      "  df['X_Diff'] = df['X'].diff()\n",
      "/var/folders/vd/hgkjsb1j7gj04s6dypg9lc0c0000gn/T/ipykernel_52417/4279315902.py:8: SettingWithCopyWarning: \n",
      "A value is trying to be set on a copy of a slice from a DataFrame.\n",
      "Try using .loc[row_indexer,col_indexer] = value instead\n",
      "\n",
      "See the caveats in the documentation: https://pandas.pydata.org/pandas-docs/stable/user_guide/indexing.html#returning-a-view-versus-a-copy\n",
      "  df['Z_Diff'] = df['Z'].diff()\n",
      "/var/folders/vd/hgkjsb1j7gj04s6dypg9lc0c0000gn/T/ipykernel_52417/4279315902.py:7: SettingWithCopyWarning: \n",
      "A value is trying to be set on a copy of a slice from a DataFrame.\n",
      "Try using .loc[row_indexer,col_indexer] = value instead\n",
      "\n",
      "See the caveats in the documentation: https://pandas.pydata.org/pandas-docs/stable/user_guide/indexing.html#returning-a-view-versus-a-copy\n",
      "  df['X_Diff'] = df['X'].diff()\n",
      "/var/folders/vd/hgkjsb1j7gj04s6dypg9lc0c0000gn/T/ipykernel_52417/4279315902.py:8: SettingWithCopyWarning: \n",
      "A value is trying to be set on a copy of a slice from a DataFrame.\n",
      "Try using .loc[row_indexer,col_indexer] = value instead\n",
      "\n",
      "See the caveats in the documentation: https://pandas.pydata.org/pandas-docs/stable/user_guide/indexing.html#returning-a-view-versus-a-copy\n",
      "  df['Z_Diff'] = df['Z'].diff()\n",
      "/var/folders/vd/hgkjsb1j7gj04s6dypg9lc0c0000gn/T/ipykernel_52417/4279315902.py:7: SettingWithCopyWarning: \n",
      "A value is trying to be set on a copy of a slice from a DataFrame.\n",
      "Try using .loc[row_indexer,col_indexer] = value instead\n",
      "\n",
      "See the caveats in the documentation: https://pandas.pydata.org/pandas-docs/stable/user_guide/indexing.html#returning-a-view-versus-a-copy\n",
      "  df['X_Diff'] = df['X'].diff()\n",
      "/var/folders/vd/hgkjsb1j7gj04s6dypg9lc0c0000gn/T/ipykernel_52417/4279315902.py:8: SettingWithCopyWarning: \n",
      "A value is trying to be set on a copy of a slice from a DataFrame.\n",
      "Try using .loc[row_indexer,col_indexer] = value instead\n",
      "\n",
      "See the caveats in the documentation: https://pandas.pydata.org/pandas-docs/stable/user_guide/indexing.html#returning-a-view-versus-a-copy\n",
      "  df['Z_Diff'] = df['Z'].diff()\n",
      "/var/folders/vd/hgkjsb1j7gj04s6dypg9lc0c0000gn/T/ipykernel_52417/4279315902.py:7: SettingWithCopyWarning: \n",
      "A value is trying to be set on a copy of a slice from a DataFrame.\n",
      "Try using .loc[row_indexer,col_indexer] = value instead\n",
      "\n",
      "See the caveats in the documentation: https://pandas.pydata.org/pandas-docs/stable/user_guide/indexing.html#returning-a-view-versus-a-copy\n",
      "  df['X_Diff'] = df['X'].diff()\n",
      "/var/folders/vd/hgkjsb1j7gj04s6dypg9lc0c0000gn/T/ipykernel_52417/4279315902.py:8: SettingWithCopyWarning: \n",
      "A value is trying to be set on a copy of a slice from a DataFrame.\n",
      "Try using .loc[row_indexer,col_indexer] = value instead\n",
      "\n",
      "See the caveats in the documentation: https://pandas.pydata.org/pandas-docs/stable/user_guide/indexing.html#returning-a-view-versus-a-copy\n",
      "  df['Z_Diff'] = df['Z'].diff()\n",
      "/var/folders/vd/hgkjsb1j7gj04s6dypg9lc0c0000gn/T/ipykernel_52417/4279315902.py:7: SettingWithCopyWarning: \n",
      "A value is trying to be set on a copy of a slice from a DataFrame.\n",
      "Try using .loc[row_indexer,col_indexer] = value instead\n",
      "\n",
      "See the caveats in the documentation: https://pandas.pydata.org/pandas-docs/stable/user_guide/indexing.html#returning-a-view-versus-a-copy\n",
      "  df['X_Diff'] = df['X'].diff()\n",
      "/var/folders/vd/hgkjsb1j7gj04s6dypg9lc0c0000gn/T/ipykernel_52417/4279315902.py:8: SettingWithCopyWarning: \n",
      "A value is trying to be set on a copy of a slice from a DataFrame.\n",
      "Try using .loc[row_indexer,col_indexer] = value instead\n",
      "\n",
      "See the caveats in the documentation: https://pandas.pydata.org/pandas-docs/stable/user_guide/indexing.html#returning-a-view-versus-a-copy\n",
      "  df['Z_Diff'] = df['Z'].diff()\n",
      "/var/folders/vd/hgkjsb1j7gj04s6dypg9lc0c0000gn/T/ipykernel_52417/4279315902.py:7: SettingWithCopyWarning: \n",
      "A value is trying to be set on a copy of a slice from a DataFrame.\n",
      "Try using .loc[row_indexer,col_indexer] = value instead\n",
      "\n",
      "See the caveats in the documentation: https://pandas.pydata.org/pandas-docs/stable/user_guide/indexing.html#returning-a-view-versus-a-copy\n",
      "  df['X_Diff'] = df['X'].diff()\n",
      "/var/folders/vd/hgkjsb1j7gj04s6dypg9lc0c0000gn/T/ipykernel_52417/4279315902.py:8: SettingWithCopyWarning: \n",
      "A value is trying to be set on a copy of a slice from a DataFrame.\n",
      "Try using .loc[row_indexer,col_indexer] = value instead\n",
      "\n",
      "See the caveats in the documentation: https://pandas.pydata.org/pandas-docs/stable/user_guide/indexing.html#returning-a-view-versus-a-copy\n",
      "  df['Z_Diff'] = df['Z'].diff()\n"
     ]
    }
   ],
   "source": [
    "# Iterating through participant folders and conducting analyses\n",
    "for PID in sub_folders:\n",
    "    \n",
    "    # Filepath to each participant folder\n",
    "    fp_PID = fp_folder + PID\n",
    "\n",
    "    for i in range(1,4):\n",
    "        fp_data = fp_PID +'/Saved_data_'+ PID + '_t' + str(i) + '.csv'\n",
    "\n",
    "        data = process_data(fp_data)\n",
    "\n",
    "        ct_results = get_ct(data)\n",
    "        ori_ct_results = get_ori_ct(data)\n",
    "        nav_ct_results = get_nav_ct(data)\n",
    "        dt_results = get_dt(data)\n",
    "        dwell_results = get_dwell(data)\n",
    "        teleport_results = get_teleport(data)\n",
    "        speed_results = dt_results['Distance'] / nav_ct_results['Navigation_Time']\n",
    "        speed_results = speed_results.rename('Speed')\n",
    "\n",
    "        final = pd.concat([ct_results, ori_ct_results, nav_ct_results, dt_results, speed_results, dwell_results, teleport_results], axis=1)\n",
    "\n",
    "        # Define the desired order of indices\n",
    "        new_order = ['Automobile shop', 'Police station ', 'Fire Station', 'Bank', 'Pawn Shop', 'Pizzeria', 'Quattroki Restaurant', 'High School']\n",
    "\n",
    "        # Reorganize the DataFrame based on the new index order\n",
    "        final = final.reindex(new_order)\n",
    "        \n",
    "        block = f\"b{i}\"\n",
    "        final.to_csv(fp_PID + '/' + block + '_results.csv', index=True)"
   ]
  },
  {
   "cell_type": "code",
   "execution_count": 16,
   "metadata": {},
   "outputs": [
    {
     "name": "stderr",
     "output_type": "stream",
     "text": [
      "/var/folders/vd/hgkjsb1j7gj04s6dypg9lc0c0000gn/T/ipykernel_16081/4275418646.py:24: RuntimeWarning: More than 20 figures have been opened. Figures created through the pyplot interface (`matplotlib.pyplot.figure`) are retained until explicitly closed and may consume too much memory. (To control this warning, see the rcParam `figure.max_open_warning`). Consider using `matplotlib.pyplot.close()`.\n",
      "  plt.figure(figsize = (8,8))\n"
     ]
    },
    {
     "data": {
      "text/plain": [
       "<Figure size 800x800 with 0 Axes>"
      ]
     },
     "metadata": {},
     "output_type": "display_data"
    },
    {
     "data": {
      "text/plain": [
       "<Figure size 800x800 with 0 Axes>"
      ]
     },
     "metadata": {},
     "output_type": "display_data"
    },
    {
     "data": {
      "text/plain": [
       "<Figure size 800x800 with 0 Axes>"
      ]
     },
     "metadata": {},
     "output_type": "display_data"
    },
    {
     "data": {
      "text/plain": [
       "<Figure size 800x800 with 0 Axes>"
      ]
     },
     "metadata": {},
     "output_type": "display_data"
    },
    {
     "data": {
      "text/plain": [
       "<Figure size 800x800 with 0 Axes>"
      ]
     },
     "metadata": {},
     "output_type": "display_data"
    },
    {
     "data": {
      "text/plain": [
       "<Figure size 800x800 with 0 Axes>"
      ]
     },
     "metadata": {},
     "output_type": "display_data"
    },
    {
     "data": {
      "text/plain": [
       "<Figure size 800x800 with 0 Axes>"
      ]
     },
     "metadata": {},
     "output_type": "display_data"
    },
    {
     "data": {
      "text/plain": [
       "<Figure size 800x800 with 0 Axes>"
      ]
     },
     "metadata": {},
     "output_type": "display_data"
    },
    {
     "data": {
      "text/plain": [
       "<Figure size 800x800 with 0 Axes>"
      ]
     },
     "metadata": {},
     "output_type": "display_data"
    },
    {
     "data": {
      "text/plain": [
       "<Figure size 800x800 with 0 Axes>"
      ]
     },
     "metadata": {},
     "output_type": "display_data"
    },
    {
     "data": {
      "text/plain": [
       "<Figure size 800x800 with 0 Axes>"
      ]
     },
     "metadata": {},
     "output_type": "display_data"
    },
    {
     "data": {
      "text/plain": [
       "<Figure size 800x800 with 0 Axes>"
      ]
     },
     "metadata": {},
     "output_type": "display_data"
    },
    {
     "data": {
      "text/plain": [
       "<Figure size 800x800 with 0 Axes>"
      ]
     },
     "metadata": {},
     "output_type": "display_data"
    },
    {
     "data": {
      "text/plain": [
       "<Figure size 800x800 with 0 Axes>"
      ]
     },
     "metadata": {},
     "output_type": "display_data"
    },
    {
     "data": {
      "text/plain": [
       "<Figure size 800x800 with 0 Axes>"
      ]
     },
     "metadata": {},
     "output_type": "display_data"
    },
    {
     "data": {
      "text/plain": [
       "<Figure size 800x800 with 0 Axes>"
      ]
     },
     "metadata": {},
     "output_type": "display_data"
    },
    {
     "data": {
      "text/plain": [
       "<Figure size 800x800 with 0 Axes>"
      ]
     },
     "metadata": {},
     "output_type": "display_data"
    },
    {
     "data": {
      "text/plain": [
       "<Figure size 800x800 with 0 Axes>"
      ]
     },
     "metadata": {},
     "output_type": "display_data"
    },
    {
     "data": {
      "text/plain": [
       "<Figure size 800x800 with 0 Axes>"
      ]
     },
     "metadata": {},
     "output_type": "display_data"
    },
    {
     "data": {
      "text/plain": [
       "<Figure size 800x800 with 0 Axes>"
      ]
     },
     "metadata": {},
     "output_type": "display_data"
    },
    {
     "data": {
      "text/plain": [
       "<Figure size 800x800 with 0 Axes>"
      ]
     },
     "metadata": {},
     "output_type": "display_data"
    },
    {
     "data": {
      "text/plain": [
       "<Figure size 800x800 with 0 Axes>"
      ]
     },
     "metadata": {},
     "output_type": "display_data"
    },
    {
     "data": {
      "text/plain": [
       "<Figure size 800x800 with 0 Axes>"
      ]
     },
     "metadata": {},
     "output_type": "display_data"
    },
    {
     "data": {
      "text/plain": [
       "<Figure size 800x800 with 0 Axes>"
      ]
     },
     "metadata": {},
     "output_type": "display_data"
    },
    {
     "data": {
      "text/plain": [
       "<Figure size 800x800 with 0 Axes>"
      ]
     },
     "metadata": {},
     "output_type": "display_data"
    },
    {
     "data": {
      "text/plain": [
       "<Figure size 800x800 with 0 Axes>"
      ]
     },
     "metadata": {},
     "output_type": "display_data"
    },
    {
     "data": {
      "text/plain": [
       "<Figure size 800x800 with 0 Axes>"
      ]
     },
     "metadata": {},
     "output_type": "display_data"
    },
    {
     "data": {
      "text/plain": [
       "<Figure size 800x800 with 0 Axes>"
      ]
     },
     "metadata": {},
     "output_type": "display_data"
    },
    {
     "data": {
      "text/plain": [
       "<Figure size 800x800 with 0 Axes>"
      ]
     },
     "metadata": {},
     "output_type": "display_data"
    },
    {
     "data": {
      "text/plain": [
       "<Figure size 800x800 with 0 Axes>"
      ]
     },
     "metadata": {},
     "output_type": "display_data"
    },
    {
     "data": {
      "text/plain": [
       "<Figure size 800x800 with 0 Axes>"
      ]
     },
     "metadata": {},
     "output_type": "display_data"
    },
    {
     "data": {
      "text/plain": [
       "<Figure size 800x800 with 0 Axes>"
      ]
     },
     "metadata": {},
     "output_type": "display_data"
    },
    {
     "data": {
      "text/plain": [
       "<Figure size 800x800 with 0 Axes>"
      ]
     },
     "metadata": {},
     "output_type": "display_data"
    },
    {
     "data": {
      "text/plain": [
       "<Figure size 800x800 with 0 Axes>"
      ]
     },
     "metadata": {},
     "output_type": "display_data"
    },
    {
     "data": {
      "text/plain": [
       "<Figure size 800x800 with 0 Axes>"
      ]
     },
     "metadata": {},
     "output_type": "display_data"
    },
    {
     "data": {
      "text/plain": [
       "<Figure size 800x800 with 0 Axes>"
      ]
     },
     "metadata": {},
     "output_type": "display_data"
    },
    {
     "data": {
      "text/plain": [
       "<Figure size 800x800 with 0 Axes>"
      ]
     },
     "metadata": {},
     "output_type": "display_data"
    },
    {
     "data": {
      "text/plain": [
       "<Figure size 800x800 with 0 Axes>"
      ]
     },
     "metadata": {},
     "output_type": "display_data"
    },
    {
     "data": {
      "text/plain": [
       "<Figure size 800x800 with 0 Axes>"
      ]
     },
     "metadata": {},
     "output_type": "display_data"
    },
    {
     "data": {
      "text/plain": [
       "<Figure size 800x800 with 0 Axes>"
      ]
     },
     "metadata": {},
     "output_type": "display_data"
    },
    {
     "data": {
      "text/plain": [
       "<Figure size 800x800 with 0 Axes>"
      ]
     },
     "metadata": {},
     "output_type": "display_data"
    },
    {
     "data": {
      "text/plain": [
       "<Figure size 800x800 with 0 Axes>"
      ]
     },
     "metadata": {},
     "output_type": "display_data"
    },
    {
     "data": {
      "text/plain": [
       "<Figure size 800x800 with 0 Axes>"
      ]
     },
     "metadata": {},
     "output_type": "display_data"
    },
    {
     "data": {
      "text/plain": [
       "<Figure size 800x800 with 0 Axes>"
      ]
     },
     "metadata": {},
     "output_type": "display_data"
    },
    {
     "data": {
      "text/plain": [
       "<Figure size 800x800 with 0 Axes>"
      ]
     },
     "metadata": {},
     "output_type": "display_data"
    },
    {
     "data": {
      "text/plain": [
       "<Figure size 800x800 with 0 Axes>"
      ]
     },
     "metadata": {},
     "output_type": "display_data"
    },
    {
     "data": {
      "text/plain": [
       "<Figure size 800x800 with 0 Axes>"
      ]
     },
     "metadata": {},
     "output_type": "display_data"
    },
    {
     "data": {
      "text/plain": [
       "<Figure size 800x800 with 0 Axes>"
      ]
     },
     "metadata": {},
     "output_type": "display_data"
    },
    {
     "data": {
      "text/plain": [
       "<Figure size 800x800 with 0 Axes>"
      ]
     },
     "metadata": {},
     "output_type": "display_data"
    },
    {
     "data": {
      "text/plain": [
       "<Figure size 800x800 with 0 Axes>"
      ]
     },
     "metadata": {},
     "output_type": "display_data"
    },
    {
     "data": {
      "text/plain": [
       "<Figure size 800x800 with 0 Axes>"
      ]
     },
     "metadata": {},
     "output_type": "display_data"
    },
    {
     "data": {
      "text/plain": [
       "<Figure size 800x800 with 0 Axes>"
      ]
     },
     "metadata": {},
     "output_type": "display_data"
    },
    {
     "data": {
      "text/plain": [
       "<Figure size 800x800 with 0 Axes>"
      ]
     },
     "metadata": {},
     "output_type": "display_data"
    },
    {
     "data": {
      "text/plain": [
       "<Figure size 800x800 with 0 Axes>"
      ]
     },
     "metadata": {},
     "output_type": "display_data"
    },
    {
     "data": {
      "text/plain": [
       "<Figure size 800x800 with 0 Axes>"
      ]
     },
     "metadata": {},
     "output_type": "display_data"
    },
    {
     "data": {
      "text/plain": [
       "<Figure size 800x800 with 0 Axes>"
      ]
     },
     "metadata": {},
     "output_type": "display_data"
    },
    {
     "data": {
      "text/plain": [
       "<Figure size 800x800 with 0 Axes>"
      ]
     },
     "metadata": {},
     "output_type": "display_data"
    },
    {
     "data": {
      "text/plain": [
       "<Figure size 800x800 with 0 Axes>"
      ]
     },
     "metadata": {},
     "output_type": "display_data"
    },
    {
     "data": {
      "text/plain": [
       "<Figure size 800x800 with 0 Axes>"
      ]
     },
     "metadata": {},
     "output_type": "display_data"
    },
    {
     "data": {
      "text/plain": [
       "<Figure size 800x800 with 0 Axes>"
      ]
     },
     "metadata": {},
     "output_type": "display_data"
    },
    {
     "data": {
      "text/plain": [
       "<Figure size 800x800 with 0 Axes>"
      ]
     },
     "metadata": {},
     "output_type": "display_data"
    },
    {
     "data": {
      "text/plain": [
       "<Figure size 800x800 with 0 Axes>"
      ]
     },
     "metadata": {},
     "output_type": "display_data"
    },
    {
     "data": {
      "text/plain": [
       "<Figure size 800x800 with 0 Axes>"
      ]
     },
     "metadata": {},
     "output_type": "display_data"
    },
    {
     "data": {
      "text/plain": [
       "<Figure size 800x800 with 0 Axes>"
      ]
     },
     "metadata": {},
     "output_type": "display_data"
    },
    {
     "data": {
      "text/plain": [
       "<Figure size 800x800 with 0 Axes>"
      ]
     },
     "metadata": {},
     "output_type": "display_data"
    },
    {
     "data": {
      "text/plain": [
       "<Figure size 800x800 with 0 Axes>"
      ]
     },
     "metadata": {},
     "output_type": "display_data"
    },
    {
     "data": {
      "text/plain": [
       "<Figure size 800x800 with 0 Axes>"
      ]
     },
     "metadata": {},
     "output_type": "display_data"
    },
    {
     "data": {
      "text/plain": [
       "<Figure size 800x800 with 0 Axes>"
      ]
     },
     "metadata": {},
     "output_type": "display_data"
    },
    {
     "data": {
      "text/plain": [
       "<Figure size 800x800 with 0 Axes>"
      ]
     },
     "metadata": {},
     "output_type": "display_data"
    },
    {
     "data": {
      "text/plain": [
       "<Figure size 800x800 with 0 Axes>"
      ]
     },
     "metadata": {},
     "output_type": "display_data"
    },
    {
     "data": {
      "text/plain": [
       "<Figure size 800x800 with 0 Axes>"
      ]
     },
     "metadata": {},
     "output_type": "display_data"
    },
    {
     "data": {
      "text/plain": [
       "<Figure size 800x800 with 0 Axes>"
      ]
     },
     "metadata": {},
     "output_type": "display_data"
    },
    {
     "data": {
      "text/plain": [
       "<Figure size 800x800 with 0 Axes>"
      ]
     },
     "metadata": {},
     "output_type": "display_data"
    },
    {
     "data": {
      "text/plain": [
       "<Figure size 800x800 with 0 Axes>"
      ]
     },
     "metadata": {},
     "output_type": "display_data"
    },
    {
     "data": {
      "text/plain": [
       "<Figure size 800x800 with 0 Axes>"
      ]
     },
     "metadata": {},
     "output_type": "display_data"
    },
    {
     "data": {
      "text/plain": [
       "<Figure size 800x800 with 0 Axes>"
      ]
     },
     "metadata": {},
     "output_type": "display_data"
    },
    {
     "data": {
      "text/plain": [
       "<Figure size 800x800 with 0 Axes>"
      ]
     },
     "metadata": {},
     "output_type": "display_data"
    },
    {
     "data": {
      "text/plain": [
       "<Figure size 800x800 with 0 Axes>"
      ]
     },
     "metadata": {},
     "output_type": "display_data"
    }
   ],
   "source": [
    "# Define the colors for each target building\n",
    "target_colors = {\n",
    "    'Automobile shop': '#000000',\n",
    "    'Police station': '#ff0010',\n",
    "    'Fire Station': '#ff55c2',\n",
    "    'Bank': '#9250fb',\n",
    "    'Pawn Shop': '#00b9ff',\n",
    "    'Pizzeria': '#034cb4',\n",
    "    'Quattroki Restaurant': '#00c359',\n",
    "    'High School': '#ff8a33'\n",
    "}\n",
    "\n",
    "for PID in sub_folders:\n",
    "    \n",
    "    # Filepath to each participant folder\n",
    "    fp_PID = fp_folder + PID\n",
    "\n",
    "    for i in range(1, 4):\n",
    "        fp_data = fp_PID + '/Saved_data_' + PID + '_t' + str(i) + '.csv'\n",
    "\n",
    "        # Assuming process_data is a function that processes and returns a DataFrame\n",
    "        data = process_data(fp_data)\n",
    "\n",
    "        plt.figure(figsize = (8,8))\n",
    "        \n",
    "        # Plot the X-Z movement for each target, using the specified colors\n",
    "        for target_name, target_data in data.groupby('Target_Name'):\n",
    "            color = target_colors.get(target_name, '#000000')  # Use black as default color if target not found\n",
    "            plt.plot(target_data['X'], target_data['Z'], color=color, linewidth=3, label=target_name)\n",
    "            plt.xlim(-80, 80)\n",
    "            plt.ylim(-60, 80)\n",
    "            plt.xticks(fontsize=20)\n",
    "            plt.yticks(fontsize=20)\n",
    "\n",
    "        # Define the block and image path\n",
    "        block = f\"b{i}\"\n",
    "        imagepath = Path(fp_PID + '/' + block + '_movement.png') \n",
    "        imagepath.parent.mkdir(parents=False, exist_ok=True)\n",
    "        \n",
    "        # Save the plot\n",
    "        plt.savefig(imagepath)\n",
    "\n",
    "        # Clear the figure for the next iteration\n",
    "        plt.clf()"
   ]
  }
 ],
 "metadata": {
  "kernelspec": {
   "display_name": ".venv",
   "language": "python",
   "name": "python3"
  },
  "language_info": {
   "codemirror_mode": {
    "name": "ipython",
    "version": 3
   },
   "file_extension": ".py",
   "mimetype": "text/x-python",
   "name": "python",
   "nbconvert_exporter": "python",
   "pygments_lexer": "ipython3",
   "version": "3.11.4"
  },
  "orig_nbformat": 4
 },
 "nbformat": 4,
 "nbformat_minor": 2
}
