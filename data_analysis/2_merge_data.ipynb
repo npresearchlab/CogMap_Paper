{
 "cells": [
  {
   "cell_type": "markdown",
   "metadata": {},
   "source": [
    "## Importing Libraries"
   ]
  },
  {
   "cell_type": "code",
   "execution_count": 1,
   "metadata": {},
   "outputs": [],
   "source": [
    "# Importing relevant libraries\n",
    "import pandas as pd\n",
    "import numpy as np\n",
    "from pathlib import Path\n",
    "import os\n",
    "import matplotlib\n",
    "import matplotlib.pyplot as plt\n",
    "import math"
   ]
  },
  {
   "cell_type": "markdown",
   "metadata": {},
   "source": [
    "## Getting All Data"
   ]
  },
  {
   "cell_type": "code",
   "execution_count": 2,
   "metadata": {},
   "outputs": [
    {
     "name": "stdout",
     "output_type": "stream",
     "text": [
      "File '/Users/yasminebassil/Desktop/Data/merged_results.csv' has been deleted successfully.\n",
      "['BNC01', 'BNC02', 'BNC03', 'BNC04', 'BNC05', 'BNC07', 'BNC08', 'BNC09', 'BNC11', 'BNC12', 'BNC23', 'BNC26', 'BNC27', 'BNC28', 'BNC29', 'BNC30', 'BNC31', 'BNC32', 'BNC33', 'BNC34', 'BNC35', 'BNC36', 'BNC37']\n"
     ]
    }
   ],
   "source": [
    "# Retrieving filepath to all data folders\n",
    "%store -r fp_folder\n",
    "\n",
    "# Check if the file exists before attempting to delete it\n",
    "if os.path.exists(fp_folder + 'merged_results.csv'):\n",
    "    # Attempt to delete the file\n",
    "    try:\n",
    "        os.remove(fp_folder + 'merged_results.csv')\n",
    "        print(f\"File '{fp_folder + 'merged_results.csv'}' has been deleted successfully.\")\n",
    "    except OSError as e:\n",
    "        print(f\"Error deleting file '{fp_folder + 'merged_results.csv'}': {e}\")\n",
    "else:\n",
    "    print(f\"File '{fp_folder + 'merged_results.csv'}' does not exist.\")\n",
    "\n",
    "\n",
    "sub_folders = []\n",
    "for i in os.listdir(fp_folder):\n",
    "    if os.path.isdir(os.path.join(fp_folder,i)) and 'BNC' in i:\n",
    "        sub_folders.append(i)\n",
    "\n",
    "num_subjects = len(sub_folders)\n",
    "sub_folders = sorted(sub_folders)\n",
    "print(sub_folders)"
   ]
  },
  {
   "cell_type": "code",
   "execution_count": 3,
   "metadata": {},
   "outputs": [
    {
     "name": "stdout",
     "output_type": "stream",
     "text": [
      "csv created\n"
     ]
    }
   ],
   "source": [
    "# Iterating through participant folders and conducting analyses\n",
    "for PID in sub_folders:\n",
    "    \n",
    "    # Filepath to each participant folder\n",
    "    fp_PID = fp_folder + PID\n",
    "\n",
    "    for i in range(1,4):\n",
    "        fp_results = fp_PID +'/b'+str(i)+'_results.csv'\n",
    "        data = pd.read_csv(fp_results)\n",
    "        data.insert(0,'Participant',PID)\n",
    "        data.insert(1,'Block_num',i)\n",
    "        if os.path.exists(fp_folder + 'merged_results.csv')==False:\n",
    "            data.to_csv(fp_folder + 'merged_results.csv', index=True)\n",
    "            print('csv created')\n",
    "        elif os.path.exists(fp_folder + 'merged_results.csv')==True:\n",
    "            data.to_csv(fp_folder + 'merged_results.csv', index=True,mode='a', header=False)"
   ]
  }
 ],
 "metadata": {
  "kernelspec": {
   "display_name": ".venv",
   "language": "python",
   "name": "python3"
  },
  "language_info": {
   "codemirror_mode": {
    "name": "ipython",
    "version": 3
   },
   "file_extension": ".py",
   "mimetype": "text/x-python",
   "name": "python",
   "nbconvert_exporter": "python",
   "pygments_lexer": "ipython3",
   "version": "3.11.4"
  },
  "orig_nbformat": 4
 },
 "nbformat": 4,
 "nbformat_minor": 2
}
