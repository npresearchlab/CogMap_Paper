{
  "cells": [
    {
      "cell_type": "code",
      "execution_count": 1,
      "metadata": {
        "colab": {
          "base_uri": "https://localhost:8080/"
        },
        "id": "8MhglCMkLtw6",
        "outputId": "b08bf54d-301a-40f4-c70e-bfd55b0a1b33"
      },
      "outputs": [],
      "source": [
        "from IPython.core.display import TextDisplayObject\n",
        "import pandas as pd\n",
        "import matplotlib.pyplot as mp\n",
        "import numpy as np\n",
        "import csv\n",
        "from pathlib import Path\n",
        "from matplotlib.backends.backend_pdf import PdfPages\n",
        "from pathlib import Path\n",
        "import os\n",
        "import math"
      ]
    },
    {
      "cell_type": "code",
      "execution_count": 2,
      "metadata": {},
      "outputs": [],
      "source": [
        "def remove_first(x):\n",
        "  x =  x[1:]\n",
        "  x = float(x)\n",
        "  return x\n",
        "\n",
        "def remove_last(x):\n",
        "  x = x[:(len(x)-1)]\n",
        "  x = float(x)\n",
        "  return x\n",
        "\n",
        "def revalue(x):\n",
        "  if x >180:\n",
        "    x= -(360-x)\n",
        "  return x"
      ]
    },
    {
      "cell_type": "code",
      "execution_count": 3,
      "metadata": {},
      "outputs": [],
      "source": [
        "def process_data(filepath):\n",
        "  \n",
        "  b = pd.read_csv(filepath)\n",
        "\n",
        "  b = b.iloc[3:]\n",
        "  b = b.reset_index(drop=True)\n",
        "\n",
        "  b.rename(columns={'Lapsed Time': 'Time'}, inplace=True)\n",
        "  b.rename(columns={'Target Name': 'Target_Name'}, inplace=True)\n",
        "\n",
        "  b['Time_Diff'] = b['Time'].diff()\n",
        "  b['Time_Diff'] = b['Time_Diff'].apply(lambda x: max(0, x))\n",
        "\n",
        "  b['X Euler Angle'] = b['X Euler Angle'].apply(remove_first)\n",
        "  b['Z Euler Angle'] = b['Z Euler Angle'].apply(remove_last)\n",
        "\n",
        "  b['X_A'] = b['X Euler Angle']\n",
        "  b['Y_A'] = b['Y Euler Angle']\n",
        "  b['Z_A'] = b['Z Euler Angle']\n",
        "\n",
        "  b['X_A_Rev'] = b['X Euler Angle'].apply(revalue)\n",
        "  b['Y_A_Rev'] = b['Y Euler Angle'].apply(revalue)\n",
        "  b['Z_A_Rev'] = b['Z Euler Angle'].apply(revalue)\n",
        "\n",
        "  b['X_A_Rev_Diff'] = abs(b['X_A_Rev'].diff())\n",
        "  b['Y_A_Rev_Diff'] = abs(b['Y_A_Rev'].diff())\n",
        "  b['Z_A_Rev_Diff'] = abs(b['Z_A_Rev'].diff())\n",
        "\n",
        "  # Removing all rows that say Mission Complete\n",
        "  label_to_remove = 'Mission complete'\n",
        "  b = b[b['Target_Name'] != label_to_remove]\n",
        "\n",
        "  b.fillna(0, inplace=True)\n",
        "\n",
        "  b_df = b[['Target_Name', 'X', 'Z', 'X_A', 'X_A_Rev', 'X_A_Rev_Diff', 'Y_A', 'Y_A_Rev', 'Y_A_Rev_Diff', 'Z_A', 'Z_A_Rev', 'Z_A_Rev_Diff', 'Time', 'Time_Diff']].copy()\n",
        "  \n",
        "  return b_df "
      ]
    },
    {
      "cell_type": "code",
      "execution_count": 4,
      "metadata": {
        "colab": {
          "base_uri": "https://localhost:8080/"
        },
        "id": "IxlUPMRoz_A6",
        "outputId": "cc81d552-aef4-455a-c64a-48d24356ec5e"
      },
      "outputs": [
        {
          "name": "stdout",
          "output_type": "stream",
          "text": [
            "['BNC01', 'BNC02', 'BNC03', 'BNC04', 'BNC05', 'BNC07', 'BNC08', 'BNC09', 'BNC11', 'BNC12', 'BNC23', 'BNC26', 'BNC27', 'BNC28', 'BNC29', 'BNC30', 'BNC31', 'BNC32', 'BNC33', 'BNC34', 'BNC35', 'BNC36', 'BNC37']\n"
          ]
        }
      ],
      "source": [
        "# Setting filepath to all data folders\n",
        "%store -r fp_folder\n",
        "os.makedirs(fp_folder+'Target_Data/', exist_ok=True)\n",
        "sub_folders = []\n",
        "for i in os.listdir(fp_folder):\n",
        "    if os.path.isdir(os.path.join(fp_folder,i)) and 'BNC' in i:\n",
        "        sub_folders.append(i)\n",
        "\n",
        "num_subjects = len(sub_folders)\n",
        "sub_folders = sorted(sub_folders)\n",
        "print(sub_folders)"
      ]
    },
    {
      "cell_type": "code",
      "execution_count": 5,
      "metadata": {},
      "outputs": [],
      "source": [
        "target_list = ['Automobile shop', 'Police station ', 'Fire Station', 'Bank', 'Pawn Shop', 'Pizzeria', 'Quattroki Restaurant', 'High School']\n",
        "trial_list = [1,2,3]\n",
        "for i in trial_list:\n",
        "    for target in target_list:\n",
        "        if os.path.exists(fp_folder + '/Target_Data/b' + str(i) +'_'+target+'_results.csv')==True:\n",
        "            os.remove(fp_folder + '/Target_Data/b' + str(i) +'_'+target+'_results.csv')\n",
        "        if os.path.exists(fp_folder + '/Target_Data/all_'+target+'_results.csv')==True:\n",
        "            os.remove(fp_folder + '/Target_Data/all_'+target+'_results.csv')"
      ]
    },
    {
      "cell_type": "code",
      "execution_count": 6,
      "metadata": {},
      "outputs": [
        {
          "name": "stdout",
          "output_type": "stream",
          "text": [
            "csv created\n",
            "csv created\n",
            "csv created\n",
            "csv created\n",
            "csv created\n",
            "csv created\n",
            "csv created\n",
            "csv created\n",
            "csv created\n",
            "csv created\n",
            "csv created\n",
            "csv created\n",
            "csv created\n",
            "csv created\n",
            "csv created\n",
            "csv created\n",
            "csv created\n",
            "csv created\n",
            "csv created\n",
            "csv created\n",
            "csv created\n",
            "csv created\n",
            "csv created\n",
            "csv created\n"
          ]
        }
      ],
      "source": [
        "for PID in sub_folders:\n",
        "    \n",
        "    # Filepath to each participant folder\n",
        "    fp_PID = fp_folder + PID\n",
        "    target_list = ['Automobile shop', 'Police station ', 'Fire Station', 'Bank', 'Pawn Shop', 'Pizzeria', 'Quattroki Restaurant', 'High School']\n",
        "\n",
        "    for i in range(1,4):\n",
        "        fp_data = fp_PID +'/Saved_data_'+ PID + '_t' + str(i) + '.csv'\n",
        "\n",
        "        data = process_data(fp_data)\n",
        "        for target in target_list:\n",
        "            data_target = data[data['Target_Name'] == target]\n",
        "            data_target = data_target.drop_duplicates(subset = ['X','Z','Target_Name'],keep = ('last'))\n",
        "            data_final = data_target.filter(['X','Z','Target_Name'], axis=1)\n",
        "            data_final.insert(0,'Participant',PID)\n",
        "            data_final.insert(1,'Block_num',i)\n",
        "            if os.path.exists(fp_folder + '/Target_Data/b' + str(i) +'_'+target+'_results.csv')==False:\n",
        "                data_final.to_csv(fp_folder + '/Target_Data/b' + str(i) +'_'+target+'_results.csv', index=True)\n",
        "                print('csv created')\n",
        "            elif os.path.exists(fp_folder + '/Target_Data/b' + str(i) +'_'+target+'_results.csv')==True:\n",
        "                data_final.to_csv(fp_folder + '/Target_Data/b' + str(i) +'_'+target+'_results.csv', index=True,mode='a', header=False)\n",
        "            if os.path.exists(fp_folder + '/Target_Data/all_'+target+'_results.csv')==False:\n",
        "                data_final.to_csv(fp_folder + '/Target_Data/all_'+target+'_results.csv', index=True)\n",
        "            elif os.path.exists(fp_folder + '/Target_Data/all_'+target+'_results.csv')==True:\n",
        "                data_final.to_csv(fp_folder + '/Target_Data/all_'+target+'_results.csv', index=True,mode='a', header=False)"
      ]
    }
  ],
  "metadata": {
    "colab": {
      "provenance": []
    },
    "kernelspec": {
      "display_name": "Python 3",
      "name": "python3"
    },
    "language_info": {
      "codemirror_mode": {
        "name": "ipython",
        "version": 3
      },
      "file_extension": ".py",
      "mimetype": "text/x-python",
      "name": "python",
      "nbconvert_exporter": "python",
      "pygments_lexer": "ipython3",
      "version": "3.11.4"
    }
  },
  "nbformat": 4,
  "nbformat_minor": 0
}
